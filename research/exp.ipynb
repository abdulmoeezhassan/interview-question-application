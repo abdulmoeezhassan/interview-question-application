{
 "cells": [
  {
   "cell_type": "code",
   "execution_count": 7,
   "id": "bf43901f",
   "metadata": {},
   "outputs": [],
   "source": [
    "import os\n",
    "from dotenv import load_dotenv"
   ]
  },
  {
   "cell_type": "code",
   "execution_count": 8,
   "id": "4f0ee5a4",
   "metadata": {},
   "outputs": [],
   "source": [
    "load_dotenv()\n",
    "GROQ_API_KEY = os.getenv(\"GROQ_API_KEY\")"
   ]
  },
  {
   "cell_type": "code",
   "execution_count": 9,
   "id": "fffc491f",
   "metadata": {},
   "outputs": [],
   "source": [
    "os.environ[\"GROQ_API_KEY\"] = GROQ_API_KEY"
   ]
  },
  {
   "cell_type": "code",
   "execution_count": 10,
   "id": "45bcbe4b",
   "metadata": {},
   "outputs": [],
   "source": [
    "from langchain.document_loaders import PyPDFLoader"
   ]
  },
  {
   "cell_type": "code",
   "execution_count": 11,
   "id": "54e0d48d",
   "metadata": {},
   "outputs": [
    {
     "name": "stdout",
     "output_type": "stream",
     "text": [
      "/home/abdul-moeez/Documents/Projects/interview-question-application\n"
     ]
    }
   ],
   "source": [
    "%cd .."
   ]
  },
  {
   "cell_type": "code",
   "execution_count": 12,
   "id": "24452563",
   "metadata": {},
   "outputs": [],
   "source": [
    "file_path = \"data/285017-data-information-and-knowledge.pdf\"\n",
    "loader = PyPDFLoader(file_path)\n",
    "data = loader.load()"
   ]
  },
  {
   "cell_type": "code",
   "execution_count": 13,
   "id": "aa7b1db9",
   "metadata": {},
   "outputs": [],
   "source": [
    "question_gen=\"\"\n",
    "\n",
    "for page in data:\n",
    "    question_gen+=page.page_content"
   ]
  },
  {
   "cell_type": "code",
   "execution_count": 14,
   "id": "1e8fc184",
   "metadata": {},
   "outputs": [
    {
     "data": {
      "text/plain": [
       "\"Topic support guide \\n \\n \\n \\n \\n \\n \\n \\n \\n \\n \\nCambridge International AS & A Level \\nInformation Technology \\n9626 \\nFor examination from 2017 \\n \\nTopic 1.1 Data, information and \\nknowledgeCambridge International Examinations retains the copyright on all its publications.  \\nRegistered Centres are permitted to copy material from this booklet for their own  \\ninternal use. However, we cannot give permission to Centres to photocopy any \\nmaterial that is acknowledged to a third party even for internal use within a Centre. \\n \\n© Cambridge International Examinations 2015 \\nVersion 1Contents \\n \\n \\nIntroduction ................................................................................................................................... 2 \\nHow to use this guide .................................................................................................................. 2 \\nLearning objectives ..................................................................................................................... 2 \\nPrior knowledge ........................................................................................................................... 2 \\n1. Key terms .................................................................................................................................. 3 \\n2. Theory ........................................................................................................................................ 4 \\n2.1 Introduction............................................................................................................................ 4 \\n2.2 Data ...................................................................................................................................... 4 \\n2.3 Information ............................................................................................................................ 5 \\n2.4 Knowledge ............................................................................................................................ 5 \\n3. Exam preparation ...................................................................................................................... 7 \\n4. Further resources ..................................................................................................................... 8 \\nUseful websites ........................................................................................................................... 8 \\n5. Class and homework activities ................................................................................................ 9 \\n5.1 During teaching ..................................................................................................................... 9 \\n5.2 Topic consolidation .............................................................................................................. 10 \\n5.3 End of topic test ................................................................................................................... 11Introduction \\n \\nIntroduction \\n \\n \\nHow to use this guide \\n \\nThe aim of this guide is to facilitate your teaching of Cambridge International AS & A Level \\nInformation Technology, syllabus topic 1.1 Data, information and knowledge.  This topic defines \\nsome of the fundamental concepts used in topic 1 Data, information, knowledge and processing, \\nas well as in the syllabus as a whole    \\n \\nSection 1 lists some key terms used in this topic and their definitions. Section 2 Theory provides \\nthe basic theory that you will need for teaching this topic, including illustrative examples. Section 3 \\nindicates what your learners need to know, understand, or be able to do for this topic in the \\nexamination. Section 4 lists some useful websites relevant to the topic for you or your learners to \\nuse. Section 5 provides activities for you to carry out with your learners to teach this topic, to \\nconsolidate, and to check learning.  \\n \\nLearning objectives \\n \\nReading this guide should help you guide learners to cope with the following syllabus learning \\nobjectives: \\n \\n• define data, clearly identifying that data has no meaning \\n• define information and show how data can become information through context and meaning \\n• define knowledge and understand that information becomes knowledge when human \\nexperience is applied. \\n \\nPrior knowledge \\n \\nBefore you begin teaching this topic: \\n• If you look for information about data, information and knowledge make sure you \\nonly look at computing or information technology (IT) resources – many \\nresearchers in a variety of fields such as sociology, economics and science use \\nthe terms data and information to mean the same thing. \\n• The term ‘data’ as used in the syllabus is often referred to in other fields as ‘raw \\ndata’. Make sure you are aware of this before you research the topic. \\n \\n2 Topic support guide 9626 Topic 1.1 Data, information and knowledgeKey terms \\n \\n1. Key terms \\n \\n \\n \\nWord/phrase Meaning \\ndata A collection of text, numbers or symbols in raw or unorganised form \\nexplicit \\nknowledge \\nKnowledge, such as facts, that can be easily passed on to others \\ninformation Data that has been processed, e.g. grouped, normally by a computer, to give it \\nmeaning and make it interpretable \\nknowledge The acquisition by a person of information such as facts,  or the understanding \\nof information such as how to solve problems \\nraw data Similar to data, the raw input of text, numbers and symbols that needs to be \\nprocessed to give it meaning \\ntacit \\nknowledge \\nKnowledge that is difficult to pass on to someone else, such as knowing how to \\ndo something \\n Topic support guide 9626 Topic 1.1 Data, information and knowledge 3Theory \\n \\n2. Theory \\n \\n \\n2.1 Introduction \\n \\nWe live in the information age. In the same way that the development of industry created the \\nindustrial age, the development of information technology systems, and especially the internet, has \\ncreated the information age. It has been a long-held belief by many philosophers that knowledge \\nis power and that knowledge stems from understanding of information; information, in turn, is the \\nassigning of meaning to data.  To develop learners' understanding of information technology, we \\nstart by defining these three related concepts. The topics are hierarchical in that: \\n \\n \\n \\n2.2 Data \\n \\n2.2.1 What is data? \\n \\nThe concept of data as it is used in the syllabus is commonly referred to as ‘raw’ data – a collection \\nof text, numbers and symbols with no meaning. Data therefore has to be processed, or provided \\nwith a context, before it can have meaning. \\n \\nExample \\n• 3, 6, 9, 12 \\n• cat, dog, gerbil, rabbit, cockatoo \\n• 161.2, 175.3, 166.4, 164.7, 169.3 \\nThese are meaningless sets of data. They could be the first four answers in the 3 x table, \\na list of household pets and the heights of 15-year-old students but without a context we \\ndon’t know. \\n \\nData \\nbecomes \\nInformation \\nbecomes \\nKnowledge \\n4 Topic support guide 9626 Topic 1.1 Data, information and knowledgeTheory \\n2.3 Information \\n \\n2.3.1 What is information? \\n \\nIt is important that students learn the concept of what ‘information’ is as used in information \\ntechnology. Information is the result of processing data, usually by computer. This results in facts, \\nwhich enables the processed data to be used in context and have meaning. Information is data \\nthat has meaning. \\n \\n2.3.2 When does data become information? \\n \\nData on its own has no meaning.  It only takes on meaning and becomes information when it is \\ninterpreted. Data consists of raw facts and figures. When that data is processed into sets according \\nto context, it provides information.  \\n \\nData refers to raw input that when processed or arranged makes meaningful output. Information is \\nusually the processed outcome of data. When data is processed into information, it becomes \\ninterpretable and gains significance. \\n \\nIn IT, symbols, characters, images, or numbers are data. These are the inputs an IT system needs \\nto process in order to produce a meaningful interpretation. In other words, data in a meaningful \\nform becomes information. Information can be about facts, things, concepts, or anything relevant to \\nthe topic concerned.  It may provide answers to questions like who, which, when, why, what, and \\nhow. \\n \\nIf we put Information into an equation it would look like this: \\n \\nData + Meaning = Information \\n \\nExample \\nLooking at the examples given for data: \\n• 3, 6, 9, 12 \\n• cat, dog, gerbil, rabbit, cockatoo \\n• 161.2, 175.3, 166.4, 164.7, 169.3 \\nOnly when we assign a context or meaning does the data become information. It all \\nbecomes meaningful when we are told: \\n• 3, 6, 9 and 12 are the first four answers in the 3 x table \\n• cat, dog, gerbil, rabbit, cockatoo is a list of household pets \\n• 161.2, 175.3, 166.4, 164.7, 169.3 are the heights of 15-year-old students. \\n \\n2.4 Knowledge \\n \\n2.4.1 What is knowledge? \\n \\nWhen someone memorises information this is often referred to as ‘rote-learning’ or ‘learning by \\nheart’. We can then say that they have acquired some knowledge. Another form of knowledge is \\nproduced as a result of understanding information that has been given to us, and using that \\ninformation to gain knowledge of how to solve problems. \\n Topic support guide 9626 Topic 1.1 Data, information and knowledge 5Theory \\n \\nKnowledge can therefore be: \\n• acquiring and remembering a set of facts, or \\n• the use of information to solve problems. \\n \\nThe first type is often called explicit knowledge. This is knowledge that can be easily passed on to \\nothers. Most forms of explicit knowledge can be stored in certain media. The information contained \\nin encyclopedias and textbooks are good examples of explicit knowledge. \\n \\nThe second type is called tacit knowledge. It is the kind of knowledge that is difficult to pass on to \\nanother person just by writing it down. For example, saying that Paris is the capital of France is \\nexplicit knowledge that can be written down, passed on, and understood by someone else. \\nHowever, the ability to speak a foreign language, bake bread, program a computer or use \\ncomplicated machinery requires additional pieces of knowledge (such as that gained through \\nexperience) that are not always known explicitly and are difficult to pass on to other users. \\n \\n2.4.2 How are data, information and knowledge linked? \\n \\nIf we put Knowledge into an equation it would look like this: \\n \\nInformation + application or use = Knowledge \\n \\nExample \\nLooking at the examples given for data: \\n• 3, 6, 9, 12 \\n• cat, dog, gerbil, rabbit, cockatoo \\n• 161.2, 175.3, 166.4, 164.7, 169.3 \\nOnly when we assign a context or meaning does the data become information. It all becomes \\nmeaningful when we are told: \\n• 3, 6, 9 and 12 are the first four answers in the 3 x table \\n• cat, dog, gerbil, rabbit, cockatoo is a list of household pets \\n• 161.2, 175.3, 166.4, 164.7, 169.3 are the heights of the five tallest 15-year-old students in a \\nclass. \\nIf we now apply this information to gain further knowledge we could say that:  \\n• 4, 8, 12 and 16 are the first four answers in the 4 x table (because the 3 x table starts at \\nthree and goes up in threes the 4 x table must start at four and go up in fours) \\n• The tallest student is 175.3cm. \\n• A lion is not a household pet as it is not in the list and it lives in the wild. \\n \\n6 Topic support guide 9626 Topic 1.1 Data, information and knowledgeExam preparation \\n \\n3. Exam preparation \\n \\n \\nThe topic of Data, information and knowledge requires learners to define and understand the \\nmeaning of these terms, as well as to be able to demonstrate how the topic is hierarchical (i.e. how \\ndata becomes information and how information becomes knowledge). Learners must know and \\nunderstand these things in order to be able to answer any exam questions which may come up on \\nthis topic. \\n \\n Topic support guide 9626 Topic 1.1 Data, information and knowledge 7Further resources \\n \\n4. Further resources \\n \\n \\nUseful websites \\n \\n \\nwww.teach-ict.com/as_a2_ict_new/ocr/AS_G061/ 311_data_info_knowledge/ \\ndata_info_knowledge/theory_data_info_know.html \\n \\nnewstrainers.wordpress.com/2009/11/10/data-becomes-information/ \\n \\n8 Topic support guide 9626 Topic 1.1 Data, information and knowledgeClass and homework activities \\n \\n5. Class and homework activities \\n \\n \\n5.1 During teaching  \\n \\nThe following activities are suggested during the teaching of this topic. \\n \\n5.1.1 Data \\n \\n1) Start by asking learners to brainstorm the meaning of ‘data’, asking for definitions. An effective \\nway of getting ideas is to tell learners that they are not allowed to comment on other learners’ ideas \\nthroughout the activity of brainstorming.  \\n \\n2) Ask learners to search for ‘data’ on the web and find definitions and examples. Make it clear that \\nthey will need to be careful and investigate only those sites that give IT/computing definitions. You \\ncould then bring the group together to discuss their findings and collectively come up with a \\ndefinition and examples you are happy with. \\n  \\n5.1.2 Information \\n \\n1) Start by asking learners to brainstorm ‘information’, asking for definitions. Then ask them to \\nsearch for ‘information’ on the internet to find definitions and examples. Make it clear that they will \\nneed to be careful and find only those sites that give IT/computing definitions. You could limit them \\nto the three sites given in Section 4.  \\n \\nBring the group together to discuss their findings and then collectively come up with a definition \\nand examples you are happy with. \\n \\n2) Explain the following to your learners as a way of demonstrating how context and meaning are \\nintegral parts of what is considered information: \\n \\nThe data item 01111101 could be the binary equivalent of the integer 125 or it could be binary for \\nthe ASCII code for the symbol  ‘}’ . How this number is processed determines how it is displayed, \\nbut as well as this there has to be a context.  \\n \\nIf we know that 01111101 is the way the computer stores the re-order quantity in a stock file then \\nwe know it represents the integer 125. However, if we are told that it is part of a stored word-\\nprocessed document then we can be confident that it represents the symbol  ‘}’. \\n \\n  \\n Topic support guide 9626 Topic 1.1 Data, information and knowledge 95.1.3 Knowledge \\n \\nAfter repeating the type of activity that the learners undertook for data and information, give them \\nthis example: \\n \\n \\nData: The number 40 000 is a piece of data, as is the name Iqbal Ahmed. Without anything else to \\nhelp us, these two items of data are meaningless. \\n \\nInformation: If we now say that ‘Iqbal Ahmed is a teacher’ and ‘$40 000 is a teacher’s salary’, the \\ndata is given meaning or context, and makes more sense to us. \\n \\nKnowledge: builds on the information. Knowledge is ‘Iqbal Ahmed is a teacher and he earns  \\n$40 000 per year’. \\n \\n \\nThen ask learners to come up with their own examples. \\n \\n \\n5.2 Topic consolidation \\n \\nThe following activities are suggested to consolidate your students’ learning after they have studied \\nthis topic: \\n \\n5.2.1 Sixty second challenge – sum up knowledge learned in this topic \\n \\nGive learners an A4 piece of paper and ask them to write down everything they can remember \\nabout the topic Data, Information and knowledge in 60 seconds. No outside resources such as \\ntextbooks, their lesson notes or computers are allowed. \\n \\nLearners then work in groups of four to compare their ideas, and using a side of A3 paper, copy \\nout the relevant points for displaying in the classroom. \\n \\n5.2.2 Write the new words you have learnt in this topic and what they mean in terms of \\ninformation technology \\n \\nAgain each learner should have a piece of A4 paper to write on, but this activity is not limited by an \\namount of time. You may need to bring the activity to an end when the majority of the learners \\nhave completed the activity. \\n \\nYou could collect and collate these responses and display the better ones on a wall of the \\nclassroom to be used by learners as a visual stimulus when revising. \\n \\n5.2.3 Self-assessment – record what you’ve learnt, any difficulties you have had and set \\nyour personal targets for learning. \\n \\nThis activity is not time limited but you will need to be aware of when your learners have started to \\nrun out of ideas. \\n \\nLearners will need to set their own targets for learning and together with you, will need to devise \\nmethods by which they can achieve their targets. \\n \\n5.2.4 Change of role – student as teacher. What questions would you ask the class and \\nwhy?Class and homework activities \\nAsk learners to imagine they are the teacher. They write down three questions they would ask the \\nother learners that would fully show that they have understood the topic. \\n \\nOne learner then uses their questions to ask the other learners about the topic. After learners have \\nanswered the questions, ask the group to comment on whether the questions were detailed \\nenough. Give them a few minutes to refine their own questions.   \\n \\nOther learners in turn take the role of the teacher, allowing time to refine questions each time a \\nlearner finishes asking questions. \\n \\nNote: The number of learners allowed to ask questions needs to be small unless the group is \\nsmall. \\n \\n5.2.5 Consolidation using question and answer cards \\n \\nThis activity is only suitable for medium to large teaching groups (at least eight learners). \\nCreate cards (and laminate them if possible) with a question on one card and the answer on \\nanother.  Mix the cards up, and give each learner two cards – an answer card and a question card, \\nso that learners don’t have a matching question and answer. Ask the learners to stand up. \\n \\nSelect a learner to start by asking their question (read from the card). The learner with the correct \\nanswer shows their answer card. They then ask their question from their question card and sit \\ndown. The activity continues until there are no learners left standing.   \\n \\n \\n5.3 End of topic test \\n \\n1. Explain the difference between data and information. [2 marks] \\n2. Describe how data becomes knowledge. [3 marks] \\n3. 5, 10, 15, 20 are items of data. Explain how these could become information and what \\nknowledge could be gained from them. [4 marks] \\n \\n Topic support guide 9626 Topic 1.1 Data, information and knowledge 11Cambridge International Examinations \\n1 Hills Road, Cambridge, CB1 2EU, United Kingdom \\nTel: +44 (0)1223 553554 Fax: +44 (0)1223 553558 \\nEmail: info@cie.org.uk www.cie.org.uk\""
      ]
     },
     "execution_count": 14,
     "metadata": {},
     "output_type": "execute_result"
    }
   ],
   "source": [
    "question_gen"
   ]
  },
  {
   "cell_type": "code",
   "execution_count": 15,
   "id": "6ca1f02d",
   "metadata": {},
   "outputs": [],
   "source": [
    "from langchain.text_splitter import TokenTextSplitter"
   ]
  },
  {
   "cell_type": "code",
   "execution_count": 16,
   "id": "ecc8fa21",
   "metadata": {},
   "outputs": [],
   "source": [
    "splitter_ques_gen = TokenTextSplitter(\n",
    "    chunk_size=10000,\n",
    "    chunk_overlap=200\n",
    ")"
   ]
  },
  {
   "cell_type": "code",
   "execution_count": 17,
   "id": "d06a5913",
   "metadata": {},
   "outputs": [],
   "source": [
    "chunk_ques_gen=splitter_ques_gen.split_text(question_gen)"
   ]
  },
  {
   "cell_type": "code",
   "execution_count": 18,
   "id": "03788fb4",
   "metadata": {},
   "outputs": [
    {
     "data": {
      "text/plain": [
       "[\"Topic support guide \\n \\n \\n \\n \\n \\n \\n \\n \\n \\n \\nCambridge International AS & A Level \\nInformation Technology \\n9626 \\nFor examination from 2017 \\n \\nTopic 1.1 Data, information and \\nknowledgeCambridge International Examinations retains the copyright on all its publications.  \\nRegistered Centres are permitted to copy material from this booklet for their own  \\ninternal use. However, we cannot give permission to Centres to photocopy any \\nmaterial that is acknowledged to a third party even for internal use within a Centre. \\n \\n© Cambridge International Examinations 2015 \\nVersion 1Contents \\n \\n \\nIntroduction ................................................................................................................................... 2 \\nHow to use this guide .................................................................................................................. 2 \\nLearning objectives ..................................................................................................................... 2 \\nPrior knowledge ........................................................................................................................... 2 \\n1. Key terms .................................................................................................................................. 3 \\n2. Theory ........................................................................................................................................ 4 \\n2.1 Introduction............................................................................................................................ 4 \\n2.2 Data ...................................................................................................................................... 4 \\n2.3 Information ............................................................................................................................ 5 \\n2.4 Knowledge ............................................................................................................................ 5 \\n3. Exam preparation ...................................................................................................................... 7 \\n4. Further resources ..................................................................................................................... 8 \\nUseful websites ........................................................................................................................... 8 \\n5. Class and homework activities ................................................................................................ 9 \\n5.1 During teaching ..................................................................................................................... 9 \\n5.2 Topic consolidation .............................................................................................................. 10 \\n5.3 End of topic test ................................................................................................................... 11Introduction \\n \\nIntroduction \\n \\n \\nHow to use this guide \\n \\nThe aim of this guide is to facilitate your teaching of Cambridge International AS & A Level \\nInformation Technology, syllabus topic 1.1 Data, information and knowledge.  This topic defines \\nsome of the fundamental concepts used in topic 1 Data, information, knowledge and processing, \\nas well as in the syllabus as a whole    \\n \\nSection 1 lists some key terms used in this topic and their definitions. Section 2 Theory provides \\nthe basic theory that you will need for teaching this topic, including illustrative examples. Section 3 \\nindicates what your learners need to know, understand, or be able to do for this topic in the \\nexamination. Section 4 lists some useful websites relevant to the topic for you or your learners to \\nuse. Section 5 provides activities for you to carry out with your learners to teach this topic, to \\nconsolidate, and to check learning.  \\n \\nLearning objectives \\n \\nReading this guide should help you guide learners to cope with the following syllabus learning \\nobjectives: \\n \\n• define data, clearly identifying that data has no meaning \\n• define information and show how data can become information through context and meaning \\n• define knowledge and understand that information becomes knowledge when human \\nexperience is applied. \\n \\nPrior knowledge \\n \\nBefore you begin teaching this topic: \\n• If you look for information about data, information and knowledge make sure you \\nonly look at computing or information technology (IT) resources – many \\nresearchers in a variety of fields such as sociology, economics and science use \\nthe terms data and information to mean the same thing. \\n• The term ‘data’ as used in the syllabus is often referred to in other fields as ‘raw \\ndata’. Make sure you are aware of this before you research the topic. \\n \\n2 Topic support guide 9626 Topic 1.1 Data, information and knowledgeKey terms \\n \\n1. Key terms \\n \\n \\n \\nWord/phrase Meaning \\ndata A collection of text, numbers or symbols in raw or unorganised form \\nexplicit \\nknowledge \\nKnowledge, such as facts, that can be easily passed on to others \\ninformation Data that has been processed, e.g. grouped, normally by a computer, to give it \\nmeaning and make it interpretable \\nknowledge The acquisition by a person of information such as facts,  or the understanding \\nof information such as how to solve problems \\nraw data Similar to data, the raw input of text, numbers and symbols that needs to be \\nprocessed to give it meaning \\ntacit \\nknowledge \\nKnowledge that is difficult to pass on to someone else, such as knowing how to \\ndo something \\n Topic support guide 9626 Topic 1.1 Data, information and knowledge 3Theory \\n \\n2. Theory \\n \\n \\n2.1 Introduction \\n \\nWe live in the information age. In the same way that the development of industry created the \\nindustrial age, the development of information technology systems, and especially the internet, has \\ncreated the information age. It has been a long-held belief by many philosophers that knowledge \\nis power and that knowledge stems from understanding of information; information, in turn, is the \\nassigning of meaning to data.  To develop learners' understanding of information technology, we \\nstart by defining these three related concepts. The topics are hierarchical in that: \\n \\n \\n \\n2.2 Data \\n \\n2.2.1 What is data? \\n \\nThe concept of data as it is used in the syllabus is commonly referred to as ‘raw’ data – a collection \\nof text, numbers and symbols with no meaning. Data therefore has to be processed, or provided \\nwith a context, before it can have meaning. \\n \\nExample \\n• 3, 6, 9, 12 \\n• cat, dog, gerbil, rabbit, cockatoo \\n• 161.2, 175.3, 166.4, 164.7, 169.3 \\nThese are meaningless sets of data. They could be the first four answers in the 3 x table, \\na list of household pets and the heights of 15-year-old students but without a context we \\ndon’t know. \\n \\nData \\nbecomes \\nInformation \\nbecomes \\nKnowledge \\n4 Topic support guide 9626 Topic 1.1 Data, information and knowledgeTheory \\n2.3 Information \\n \\n2.3.1 What is information? \\n \\nIt is important that students learn the concept of what ‘information’ is as used in information \\ntechnology. Information is the result of processing data, usually by computer. This results in facts, \\nwhich enables the processed data to be used in context and have meaning. Information is data \\nthat has meaning. \\n \\n2.3.2 When does data become information? \\n \\nData on its own has no meaning.  It only takes on meaning and becomes information when it is \\ninterpreted. Data consists of raw facts and figures. When that data is processed into sets according \\nto context, it provides information.  \\n \\nData refers to raw input that when processed or arranged makes meaningful output. Information is \\nusually the processed outcome of data. When data is processed into information, it becomes \\ninterpretable and gains significance. \\n \\nIn IT, symbols, characters, images, or numbers are data. These are the inputs an IT system needs \\nto process in order to produce a meaningful interpretation. In other words, data in a meaningful \\nform becomes information. Information can be about facts, things, concepts, or anything relevant to \\nthe topic concerned.  It may provide answers to questions like who, which, when, why, what, and \\nhow. \\n \\nIf we put Information into an equation it would look like this: \\n \\nData + Meaning = Information \\n \\nExample \\nLooking at the examples given for data: \\n• 3, 6, 9, 12 \\n• cat, dog, gerbil, rabbit, cockatoo \\n• 161.2, 175.3, 166.4, 164.7, 169.3 \\nOnly when we assign a context or meaning does the data become information. It all \\nbecomes meaningful when we are told: \\n• 3, 6, 9 and 12 are the first four answers in the 3 x table \\n• cat, dog, gerbil, rabbit, cockatoo is a list of household pets \\n• 161.2, 175.3, 166.4, 164.7, 169.3 are the heights of 15-year-old students. \\n \\n2.4 Knowledge \\n \\n2.4.1 What is knowledge? \\n \\nWhen someone memorises information this is often referred to as ‘rote-learning’ or ‘learning by \\nheart’. We can then say that they have acquired some knowledge. Another form of knowledge is \\nproduced as a result of understanding information that has been given to us, and using that \\ninformation to gain knowledge of how to solve problems. \\n Topic support guide 9626 Topic 1.1 Data, information and knowledge 5Theory \\n \\nKnowledge can therefore be: \\n• acquiring and remembering a set of facts, or \\n• the use of information to solve problems. \\n \\nThe first type is often called explicit knowledge. This is knowledge that can be easily passed on to \\nothers. Most forms of explicit knowledge can be stored in certain media. The information contained \\nin encyclopedias and textbooks are good examples of explicit knowledge. \\n \\nThe second type is called tacit knowledge. It is the kind of knowledge that is difficult to pass on to \\nanother person just by writing it down. For example, saying that Paris is the capital of France is \\nexplicit knowledge that can be written down, passed on, and understood by someone else. \\nHowever, the ability to speak a foreign language, bake bread, program a computer or use \\ncomplicated machinery requires additional pieces of knowledge (such as that gained through \\nexperience) that are not always known explicitly and are difficult to pass on to other users. \\n \\n2.4.2 How are data, information and knowledge linked? \\n \\nIf we put Knowledge into an equation it would look like this: \\n \\nInformation + application or use = Knowledge \\n \\nExample \\nLooking at the examples given for data: \\n• 3, 6, 9, 12 \\n• cat, dog, gerbil, rabbit, cockatoo \\n• 161.2, 175.3, 166.4, 164.7, 169.3 \\nOnly when we assign a context or meaning does the data become information. It all becomes \\nmeaningful when we are told: \\n• 3, 6, 9 and 12 are the first four answers in the 3 x table \\n• cat, dog, gerbil, rabbit, cockatoo is a list of household pets \\n• 161.2, 175.3, 166.4, 164.7, 169.3 are the heights of the five tallest 15-year-old students in a \\nclass. \\nIf we now apply this information to gain further knowledge we could say that:  \\n• 4, 8, 12 and 16 are the first four answers in the 4 x table (because the 3 x table starts at \\nthree and goes up in threes the 4 x table must start at four and go up in fours) \\n• The tallest student is 175.3cm. \\n• A lion is not a household pet as it is not in the list and it lives in the wild. \\n \\n6 Topic support guide 9626 Topic 1.1 Data, information and knowledgeExam preparation \\n \\n3. Exam preparation \\n \\n \\nThe topic of Data, information and knowledge requires learners to define and understand the \\nmeaning of these terms, as well as to be able to demonstrate how the topic is hierarchical (i.e. how \\ndata becomes information and how information becomes knowledge). Learners must know and \\nunderstand these things in order to be able to answer any exam questions which may come up on \\nthis topic. \\n \\n Topic support guide 9626 Topic 1.1 Data, information and knowledge 7Further resources \\n \\n4. Further resources \\n \\n \\nUseful websites \\n \\n \\nwww.teach-ict.com/as_a2_ict_new/ocr/AS_G061/ 311_data_info_knowledge/ \\ndata_info_knowledge/theory_data_info_know.html \\n \\nnewstrainers.wordpress.com/2009/11/10/data-becomes-information/ \\n \\n8 Topic support guide 9626 Topic 1.1 Data, information and knowledgeClass and homework activities \\n \\n5. Class and homework activities \\n \\n \\n5.1 During teaching  \\n \\nThe following activities are suggested during the teaching of this topic. \\n \\n5.1.1 Data \\n \\n1) Start by asking learners to brainstorm the meaning of ‘data’, asking for definitions. An effective \\nway of getting ideas is to tell learners that they are not allowed to comment on other learners’ ideas \\nthroughout the activity of brainstorming.  \\n \\n2) Ask learners to search for ‘data’ on the web and find definitions and examples. Make it clear that \\nthey will need to be careful and investigate only those sites that give IT/computing definitions. You \\ncould then bring the group together to discuss their findings and collectively come up with a \\ndefinition and examples you are happy with. \\n  \\n5.1.2 Information \\n \\n1) Start by asking learners to brainstorm ‘information’, asking for definitions. Then ask them to \\nsearch for ‘information’ on the internet to find definitions and examples. Make it clear that they will \\nneed to be careful and find only those sites that give IT/computing definitions. You could limit them \\nto the three sites given in Section 4.  \\n \\nBring the group together to discuss their findings and then collectively come up with a definition \\nand examples you are happy with. \\n \\n2) Explain the following to your learners as a way of demonstrating how context and meaning are \\nintegral parts of what is considered information: \\n \\nThe data item 01111101 could be the binary equivalent of the integer 125 or it could be binary for \\nthe ASCII code for the symbol  ‘}’ . How this number is processed determines how it is displayed, \\nbut as well as this there has to be a context.  \\n \\nIf we know that 01111101 is the way the computer stores the re-order quantity in a stock file then \\nwe know it represents the integer 125. However, if we are told that it is part of a stored word-\\nprocessed document then we can be confident that it represents the symbol  ‘}’. \\n \\n  \\n Topic support guide 9626 Topic 1.1 Data, information and knowledge 95.1.3 Knowledge \\n \\nAfter repeating the type of activity that the learners undertook for data and information, give them \\nthis example: \\n \\n \\nData: The number 40 000 is a piece of data, as is the name Iqbal Ahmed. Without anything else to \\nhelp us, these two items of data are meaningless. \\n \\nInformation: If we now say that ‘Iqbal Ahmed is a teacher’ and ‘$40 000 is a teacher’s salary’, the \\ndata is given meaning or context, and makes more sense to us. \\n \\nKnowledge: builds on the information. Knowledge is ‘Iqbal Ahmed is a teacher and he earns  \\n$40 000 per year’. \\n \\n \\nThen ask learners to come up with their own examples. \\n \\n \\n5.2 Topic consolidation \\n \\nThe following activities are suggested to consolidate your students’ learning after they have studied \\nthis topic: \\n \\n5.2.1 Sixty second challenge – sum up knowledge learned in this topic \\n \\nGive learners an A4 piece of paper and ask them to write down everything they can remember \\nabout the topic Data, Information and knowledge in 60 seconds. No outside resources such as \\ntextbooks, their lesson notes or computers are allowed. \\n \\nLearners then work in groups of four to compare their ideas, and using a side of A3 paper, copy \\nout the relevant points for displaying in the classroom. \\n \\n5.2.2 Write the new words you have learnt in this topic and what they mean in terms of \\ninformation technology \\n \\nAgain each learner should have a piece of A4 paper to write on, but this activity is not limited by an \\namount of time. You may need to bring the activity to an end when the majority of the learners \\nhave completed the activity. \\n \\nYou could collect and collate these responses and display the better ones on a wall of the \\nclassroom to be used by learners as a visual stimulus when revising. \\n \\n5.2.3 Self-assessment – record what you’ve learnt, any difficulties you have had and set \\nyour personal targets for learning. \\n \\nThis activity is not time limited but you will need to be aware of when your learners have started to \\nrun out of ideas. \\n \\nLearners will need to set their own targets for learning and together with you, will need to devise \\nmethods by which they can achieve their targets. \\n \\n5.2.4 Change of role – student as teacher. What questions would you ask the class and \\nwhy?Class and homework activities \\nAsk learners to imagine they are the teacher. They write down three questions they would ask the \\nother learners that would fully show that they have understood the topic. \\n \\nOne learner then uses their questions to ask the other learners about the topic. After learners have \\nanswered the questions, ask the group to comment on whether the questions were detailed \\nenough. Give them a few minutes to refine their own questions.   \\n \\nOther learners in turn take the role of the teacher, allowing time to refine questions each time a \\nlearner finishes asking questions. \\n \\nNote: The number of learners allowed to ask questions needs to be small unless the group is \\nsmall. \\n \\n5.2.5 Consolidation using question and answer cards \\n \\nThis activity is only suitable for medium to large teaching groups (at least eight learners). \\nCreate cards (and laminate them if possible) with a question on one card and the answer on \\nanother.  Mix the cards up, and give each learner two cards – an answer card and a question card, \\nso that learners don’t have a matching question and answer. Ask the learners to stand up. \\n \\nSelect a learner to start by asking their question (read from the card). The learner with the correct \\nanswer shows their answer card. They then ask their question from their question card and sit \\ndown. The activity continues until there are no learners left standing.   \\n \\n \\n5.3 End of topic test \\n \\n1. Explain the difference between data and information. [2 marks] \\n2. Describe how data becomes knowledge. [3 marks] \\n3. 5, 10, 15, 20 are items of data. Explain how these could become information and what \\nknowledge could be gained from them. [4 marks] \\n \\n Topic support guide 9626 Topic 1.1 Data, information and knowledge 11Cambridge International Examinations \\n1 Hills Road, Cambridge, CB1 2EU, United Kingdom \\nTel: +44 (0)1223 553554 Fax: +44 (0)1223 553558 \\nEmail: info@cie.org.uk www.cie.org.uk\"]"
      ]
     },
     "execution_count": 18,
     "metadata": {},
     "output_type": "execute_result"
    }
   ],
   "source": [
    "chunk_ques_gen"
   ]
  },
  {
   "cell_type": "code",
   "execution_count": 19,
   "id": "c6bd7746",
   "metadata": {},
   "outputs": [
    {
     "data": {
      "text/plain": [
       "1"
      ]
     },
     "execution_count": 19,
     "metadata": {},
     "output_type": "execute_result"
    }
   ],
   "source": [
    "len(chunk_ques_gen)"
   ]
  },
  {
   "cell_type": "code",
   "execution_count": 20,
   "id": "47b82cad",
   "metadata": {},
   "outputs": [],
   "source": [
    "from langchain.docstore.document import Document"
   ]
  },
  {
   "cell_type": "code",
   "execution_count": 21,
   "id": "067275e7",
   "metadata": {},
   "outputs": [],
   "source": [
    "document_ques_gen=[Document(page_content=t) for t in chunk_ques_gen]"
   ]
  },
  {
   "cell_type": "code",
   "execution_count": 22,
   "id": "5f67cb18",
   "metadata": {},
   "outputs": [],
   "source": [
    "splitter_ques_gen = TokenTextSplitter(\n",
    "    chunk_size=10000,\n",
    "    chunk_overlap=200\n",
    ")"
   ]
  },
  {
   "cell_type": "code",
   "execution_count": 23,
   "id": "12fddc93",
   "metadata": {},
   "outputs": [],
   "source": [
    "document_answer_gen= splitter_ques_gen.split_documents(\n",
    "    document_ques_gen\n",
    ")"
   ]
  },
  {
   "cell_type": "code",
   "execution_count": 24,
   "id": "c7ba8f37",
   "metadata": {},
   "outputs": [
    {
     "data": {
      "text/plain": [
       "[Document(metadata={}, page_content=\"Topic support guide \\n \\n \\n \\n \\n \\n \\n \\n \\n \\n \\nCambridge International AS & A Level \\nInformation Technology \\n9626 \\nFor examination from 2017 \\n \\nTopic 1.1 Data, information and \\nknowledgeCambridge International Examinations retains the copyright on all its publications.  \\nRegistered Centres are permitted to copy material from this booklet for their own  \\ninternal use. However, we cannot give permission to Centres to photocopy any \\nmaterial that is acknowledged to a third party even for internal use within a Centre. \\n \\n© Cambridge International Examinations 2015 \\nVersion 1Contents \\n \\n \\nIntroduction ................................................................................................................................... 2 \\nHow to use this guide .................................................................................................................. 2 \\nLearning objectives ..................................................................................................................... 2 \\nPrior knowledge ........................................................................................................................... 2 \\n1. Key terms .................................................................................................................................. 3 \\n2. Theory ........................................................................................................................................ 4 \\n2.1 Introduction............................................................................................................................ 4 \\n2.2 Data ...................................................................................................................................... 4 \\n2.3 Information ............................................................................................................................ 5 \\n2.4 Knowledge ............................................................................................................................ 5 \\n3. Exam preparation ...................................................................................................................... 7 \\n4. Further resources ..................................................................................................................... 8 \\nUseful websites ........................................................................................................................... 8 \\n5. Class and homework activities ................................................................................................ 9 \\n5.1 During teaching ..................................................................................................................... 9 \\n5.2 Topic consolidation .............................................................................................................. 10 \\n5.3 End of topic test ................................................................................................................... 11Introduction \\n \\nIntroduction \\n \\n \\nHow to use this guide \\n \\nThe aim of this guide is to facilitate your teaching of Cambridge International AS & A Level \\nInformation Technology, syllabus topic 1.1 Data, information and knowledge.  This topic defines \\nsome of the fundamental concepts used in topic 1 Data, information, knowledge and processing, \\nas well as in the syllabus as a whole    \\n \\nSection 1 lists some key terms used in this topic and their definitions. Section 2 Theory provides \\nthe basic theory that you will need for teaching this topic, including illustrative examples. Section 3 \\nindicates what your learners need to know, understand, or be able to do for this topic in the \\nexamination. Section 4 lists some useful websites relevant to the topic for you or your learners to \\nuse. Section 5 provides activities for you to carry out with your learners to teach this topic, to \\nconsolidate, and to check learning.  \\n \\nLearning objectives \\n \\nReading this guide should help you guide learners to cope with the following syllabus learning \\nobjectives: \\n \\n• define data, clearly identifying that data has no meaning \\n• define information and show how data can become information through context and meaning \\n• define knowledge and understand that information becomes knowledge when human \\nexperience is applied. \\n \\nPrior knowledge \\n \\nBefore you begin teaching this topic: \\n• If you look for information about data, information and knowledge make sure you \\nonly look at computing or information technology (IT) resources – many \\nresearchers in a variety of fields such as sociology, economics and science use \\nthe terms data and information to mean the same thing. \\n• The term ‘data’ as used in the syllabus is often referred to in other fields as ‘raw \\ndata’. Make sure you are aware of this before you research the topic. \\n \\n2 Topic support guide 9626 Topic 1.1 Data, information and knowledgeKey terms \\n \\n1. Key terms \\n \\n \\n \\nWord/phrase Meaning \\ndata A collection of text, numbers or symbols in raw or unorganised form \\nexplicit \\nknowledge \\nKnowledge, such as facts, that can be easily passed on to others \\ninformation Data that has been processed, e.g. grouped, normally by a computer, to give it \\nmeaning and make it interpretable \\nknowledge The acquisition by a person of information such as facts,  or the understanding \\nof information such as how to solve problems \\nraw data Similar to data, the raw input of text, numbers and symbols that needs to be \\nprocessed to give it meaning \\ntacit \\nknowledge \\nKnowledge that is difficult to pass on to someone else, such as knowing how to \\ndo something \\n Topic support guide 9626 Topic 1.1 Data, information and knowledge 3Theory \\n \\n2. Theory \\n \\n \\n2.1 Introduction \\n \\nWe live in the information age. In the same way that the development of industry created the \\nindustrial age, the development of information technology systems, and especially the internet, has \\ncreated the information age. It has been a long-held belief by many philosophers that knowledge \\nis power and that knowledge stems from understanding of information; information, in turn, is the \\nassigning of meaning to data.  To develop learners' understanding of information technology, we \\nstart by defining these three related concepts. The topics are hierarchical in that: \\n \\n \\n \\n2.2 Data \\n \\n2.2.1 What is data? \\n \\nThe concept of data as it is used in the syllabus is commonly referred to as ‘raw’ data – a collection \\nof text, numbers and symbols with no meaning. Data therefore has to be processed, or provided \\nwith a context, before it can have meaning. \\n \\nExample \\n• 3, 6, 9, 12 \\n• cat, dog, gerbil, rabbit, cockatoo \\n• 161.2, 175.3, 166.4, 164.7, 169.3 \\nThese are meaningless sets of data. They could be the first four answers in the 3 x table, \\na list of household pets and the heights of 15-year-old students but without a context we \\ndon’t know. \\n \\nData \\nbecomes \\nInformation \\nbecomes \\nKnowledge \\n4 Topic support guide 9626 Topic 1.1 Data, information and knowledgeTheory \\n2.3 Information \\n \\n2.3.1 What is information? \\n \\nIt is important that students learn the concept of what ‘information’ is as used in information \\ntechnology. Information is the result of processing data, usually by computer. This results in facts, \\nwhich enables the processed data to be used in context and have meaning. Information is data \\nthat has meaning. \\n \\n2.3.2 When does data become information? \\n \\nData on its own has no meaning.  It only takes on meaning and becomes information when it is \\ninterpreted. Data consists of raw facts and figures. When that data is processed into sets according \\nto context, it provides information.  \\n \\nData refers to raw input that when processed or arranged makes meaningful output. Information is \\nusually the processed outcome of data. When data is processed into information, it becomes \\ninterpretable and gains significance. \\n \\nIn IT, symbols, characters, images, or numbers are data. These are the inputs an IT system needs \\nto process in order to produce a meaningful interpretation. In other words, data in a meaningful \\nform becomes information. Information can be about facts, things, concepts, or anything relevant to \\nthe topic concerned.  It may provide answers to questions like who, which, when, why, what, and \\nhow. \\n \\nIf we put Information into an equation it would look like this: \\n \\nData + Meaning = Information \\n \\nExample \\nLooking at the examples given for data: \\n• 3, 6, 9, 12 \\n• cat, dog, gerbil, rabbit, cockatoo \\n• 161.2, 175.3, 166.4, 164.7, 169.3 \\nOnly when we assign a context or meaning does the data become information. It all \\nbecomes meaningful when we are told: \\n• 3, 6, 9 and 12 are the first four answers in the 3 x table \\n• cat, dog, gerbil, rabbit, cockatoo is a list of household pets \\n• 161.2, 175.3, 166.4, 164.7, 169.3 are the heights of 15-year-old students. \\n \\n2.4 Knowledge \\n \\n2.4.1 What is knowledge? \\n \\nWhen someone memorises information this is often referred to as ‘rote-learning’ or ‘learning by \\nheart’. We can then say that they have acquired some knowledge. Another form of knowledge is \\nproduced as a result of understanding information that has been given to us, and using that \\ninformation to gain knowledge of how to solve problems. \\n Topic support guide 9626 Topic 1.1 Data, information and knowledge 5Theory \\n \\nKnowledge can therefore be: \\n• acquiring and remembering a set of facts, or \\n• the use of information to solve problems. \\n \\nThe first type is often called explicit knowledge. This is knowledge that can be easily passed on to \\nothers. Most forms of explicit knowledge can be stored in certain media. The information contained \\nin encyclopedias and textbooks are good examples of explicit knowledge. \\n \\nThe second type is called tacit knowledge. It is the kind of knowledge that is difficult to pass on to \\nanother person just by writing it down. For example, saying that Paris is the capital of France is \\nexplicit knowledge that can be written down, passed on, and understood by someone else. \\nHowever, the ability to speak a foreign language, bake bread, program a computer or use \\ncomplicated machinery requires additional pieces of knowledge (such as that gained through \\nexperience) that are not always known explicitly and are difficult to pass on to other users. \\n \\n2.4.2 How are data, information and knowledge linked? \\n \\nIf we put Knowledge into an equation it would look like this: \\n \\nInformation + application or use = Knowledge \\n \\nExample \\nLooking at the examples given for data: \\n• 3, 6, 9, 12 \\n• cat, dog, gerbil, rabbit, cockatoo \\n• 161.2, 175.3, 166.4, 164.7, 169.3 \\nOnly when we assign a context or meaning does the data become information. It all becomes \\nmeaningful when we are told: \\n• 3, 6, 9 and 12 are the first four answers in the 3 x table \\n• cat, dog, gerbil, rabbit, cockatoo is a list of household pets \\n• 161.2, 175.3, 166.4, 164.7, 169.3 are the heights of the five tallest 15-year-old students in a \\nclass. \\nIf we now apply this information to gain further knowledge we could say that:  \\n• 4, 8, 12 and 16 are the first four answers in the 4 x table (because the 3 x table starts at \\nthree and goes up in threes the 4 x table must start at four and go up in fours) \\n• The tallest student is 175.3cm. \\n• A lion is not a household pet as it is not in the list and it lives in the wild. \\n \\n6 Topic support guide 9626 Topic 1.1 Data, information and knowledgeExam preparation \\n \\n3. Exam preparation \\n \\n \\nThe topic of Data, information and knowledge requires learners to define and understand the \\nmeaning of these terms, as well as to be able to demonstrate how the topic is hierarchical (i.e. how \\ndata becomes information and how information becomes knowledge). Learners must know and \\nunderstand these things in order to be able to answer any exam questions which may come up on \\nthis topic. \\n \\n Topic support guide 9626 Topic 1.1 Data, information and knowledge 7Further resources \\n \\n4. Further resources \\n \\n \\nUseful websites \\n \\n \\nwww.teach-ict.com/as_a2_ict_new/ocr/AS_G061/ 311_data_info_knowledge/ \\ndata_info_knowledge/theory_data_info_know.html \\n \\nnewstrainers.wordpress.com/2009/11/10/data-becomes-information/ \\n \\n8 Topic support guide 9626 Topic 1.1 Data, information and knowledgeClass and homework activities \\n \\n5. Class and homework activities \\n \\n \\n5.1 During teaching  \\n \\nThe following activities are suggested during the teaching of this topic. \\n \\n5.1.1 Data \\n \\n1) Start by asking learners to brainstorm the meaning of ‘data’, asking for definitions. An effective \\nway of getting ideas is to tell learners that they are not allowed to comment on other learners’ ideas \\nthroughout the activity of brainstorming.  \\n \\n2) Ask learners to search for ‘data’ on the web and find definitions and examples. Make it clear that \\nthey will need to be careful and investigate only those sites that give IT/computing definitions. You \\ncould then bring the group together to discuss their findings and collectively come up with a \\ndefinition and examples you are happy with. \\n  \\n5.1.2 Information \\n \\n1) Start by asking learners to brainstorm ‘information’, asking for definitions. Then ask them to \\nsearch for ‘information’ on the internet to find definitions and examples. Make it clear that they will \\nneed to be careful and find only those sites that give IT/computing definitions. You could limit them \\nto the three sites given in Section 4.  \\n \\nBring the group together to discuss their findings and then collectively come up with a definition \\nand examples you are happy with. \\n \\n2) Explain the following to your learners as a way of demonstrating how context and meaning are \\nintegral parts of what is considered information: \\n \\nThe data item 01111101 could be the binary equivalent of the integer 125 or it could be binary for \\nthe ASCII code for the symbol  ‘}’ . How this number is processed determines how it is displayed, \\nbut as well as this there has to be a context.  \\n \\nIf we know that 01111101 is the way the computer stores the re-order quantity in a stock file then \\nwe know it represents the integer 125. However, if we are told that it is part of a stored word-\\nprocessed document then we can be confident that it represents the symbol  ‘}’. \\n \\n  \\n Topic support guide 9626 Topic 1.1 Data, information and knowledge 95.1.3 Knowledge \\n \\nAfter repeating the type of activity that the learners undertook for data and information, give them \\nthis example: \\n \\n \\nData: The number 40 000 is a piece of data, as is the name Iqbal Ahmed. Without anything else to \\nhelp us, these two items of data are meaningless. \\n \\nInformation: If we now say that ‘Iqbal Ahmed is a teacher’ and ‘$40 000 is a teacher’s salary’, the \\ndata is given meaning or context, and makes more sense to us. \\n \\nKnowledge: builds on the information. Knowledge is ‘Iqbal Ahmed is a teacher and he earns  \\n$40 000 per year’. \\n \\n \\nThen ask learners to come up with their own examples. \\n \\n \\n5.2 Topic consolidation \\n \\nThe following activities are suggested to consolidate your students’ learning after they have studied \\nthis topic: \\n \\n5.2.1 Sixty second challenge – sum up knowledge learned in this topic \\n \\nGive learners an A4 piece of paper and ask them to write down everything they can remember \\nabout the topic Data, Information and knowledge in 60 seconds. No outside resources such as \\ntextbooks, their lesson notes or computers are allowed. \\n \\nLearners then work in groups of four to compare their ideas, and using a side of A3 paper, copy \\nout the relevant points for displaying in the classroom. \\n \\n5.2.2 Write the new words you have learnt in this topic and what they mean in terms of \\ninformation technology \\n \\nAgain each learner should have a piece of A4 paper to write on, but this activity is not limited by an \\namount of time. You may need to bring the activity to an end when the majority of the learners \\nhave completed the activity. \\n \\nYou could collect and collate these responses and display the better ones on a wall of the \\nclassroom to be used by learners as a visual stimulus when revising. \\n \\n5.2.3 Self-assessment – record what you’ve learnt, any difficulties you have had and set \\nyour personal targets for learning. \\n \\nThis activity is not time limited but you will need to be aware of when your learners have started to \\nrun out of ideas. \\n \\nLearners will need to set their own targets for learning and together with you, will need to devise \\nmethods by which they can achieve their targets. \\n \\n5.2.4 Change of role – student as teacher. What questions would you ask the class and \\nwhy?Class and homework activities \\nAsk learners to imagine they are the teacher. They write down three questions they would ask the \\nother learners that would fully show that they have understood the topic. \\n \\nOne learner then uses their questions to ask the other learners about the topic. After learners have \\nanswered the questions, ask the group to comment on whether the questions were detailed \\nenough. Give them a few minutes to refine their own questions.   \\n \\nOther learners in turn take the role of the teacher, allowing time to refine questions each time a \\nlearner finishes asking questions. \\n \\nNote: The number of learners allowed to ask questions needs to be small unless the group is \\nsmall. \\n \\n5.2.5 Consolidation using question and answer cards \\n \\nThis activity is only suitable for medium to large teaching groups (at least eight learners). \\nCreate cards (and laminate them if possible) with a question on one card and the answer on \\nanother.  Mix the cards up, and give each learner two cards – an answer card and a question card, \\nso that learners don’t have a matching question and answer. Ask the learners to stand up. \\n \\nSelect a learner to start by asking their question (read from the card). The learner with the correct \\nanswer shows their answer card. They then ask their question from their question card and sit \\ndown. The activity continues until there are no learners left standing.   \\n \\n \\n5.3 End of topic test \\n \\n1. Explain the difference between data and information. [2 marks] \\n2. Describe how data becomes knowledge. [3 marks] \\n3. 5, 10, 15, 20 are items of data. Explain how these could become information and what \\nknowledge could be gained from them. [4 marks] \\n \\n Topic support guide 9626 Topic 1.1 Data, information and knowledge 11Cambridge International Examinations \\n1 Hills Road, Cambridge, CB1 2EU, United Kingdom \\nTel: +44 (0)1223 553554 Fax: +44 (0)1223 553558 \\nEmail: info@cie.org.uk www.cie.org.uk\")]"
      ]
     },
     "execution_count": 24,
     "metadata": {},
     "output_type": "execute_result"
    }
   ],
   "source": [
    "document_answer_gen"
   ]
  },
  {
   "cell_type": "code",
   "execution_count": null,
   "id": "864e3f8a",
   "metadata": {},
   "outputs": [],
   "source": [
    "from langchain_groq import ChatGroq\n",
    "\n",
    "chat = ChatGroq(temperature=0.3, \n",
    "                model_name=\"llama-3.3-70b-versatile\")\n"
   ]
  },
  {
   "cell_type": "code",
   "execution_count": 26,
   "id": "99e05e31",
   "metadata": {},
   "outputs": [],
   "source": [
    "prompt_template = \"\"\"\n",
    "You are an expert at creating questions based on coding materials and documentation.\n",
    "Your goal is to prepare  a coder or a programmer for there exam and coding tests.\n",
    "Your do this by asking questions  about the text below:\n",
    "\n",
    "--------------\n",
    "{text}\n",
    "--------------\n",
    "\n",
    "Create questions that will prepare the coders or programmers for their tests.\n",
    "Make sure not to lose any important information\n",
    "\n",
    "Questions:\n",
    "\"\"\""
   ]
  },
  {
   "cell_type": "code",
   "execution_count": 27,
   "id": "d2167a07",
   "metadata": {},
   "outputs": [],
   "source": [
    "from langchain.prompts import PromptTemplate"
   ]
  },
  {
   "cell_type": "code",
   "execution_count": 28,
   "id": "7f537e72",
   "metadata": {},
   "outputs": [],
   "source": [
    "PROMPT_QUESTIONS = PromptTemplate(template=prompt_template, input_variables=['text'])"
   ]
  },
  {
   "cell_type": "code",
   "execution_count": 29,
   "id": "b0420cf9",
   "metadata": {},
   "outputs": [],
   "source": [
    "refine_template = (\n",
    "    \"\"\"\n",
    "You are an expert at creating practice questions based on coding material and documentation\n",
    "Your goal is to help a coder or programmer prepare for coding test.\n",
    "We have received some practice questions to a certain extent: {existing_answer}.\n",
    "We have the option to refine the exisiting questions or add new ones.\n",
    "(Only if necessary) with some more context below.\n",
    "\n",
    "----------------\n",
    "{text}\n",
    "----------------\n",
    "\n",
    "Given the new context, refine the original questions in English.\n",
    "If the context is not helpful, please provide the orignial questions.\n",
    "QUESTIONS:\n",
    "\"\"\"\n",
    ")"
   ]
  },
  {
   "cell_type": "code",
   "execution_count": 30,
   "id": "d13f41ec",
   "metadata": {},
   "outputs": [],
   "source": [
    "REFINE_PROMPT_TEMPLATE = PromptTemplate(\n",
    "    input_variables=[\"existing_answer\", \"TokenTextSplitter\"],\n",
    "    template=refine_template\n",
    ")"
   ]
  },
  {
   "cell_type": "code",
   "execution_count": 31,
   "id": "640f3484",
   "metadata": {},
   "outputs": [],
   "source": [
    "from langchain.chains.summarize import load_summarize_chain\n",
    "\n",
    "ques_gen_chain = load_summarize_chain(\n",
    "    llm=chat,\n",
    "    chain_type=\"refine\",\n",
    "    verbose=True,\n",
    "    question_prompt=PROMPT_QUESTIONS,\n",
    "    refine_prompt=REFINE_PROMPT_TEMPLATE\n",
    ")"
   ]
  },
  {
   "cell_type": "code",
   "execution_count": 32,
   "id": "0a82d72a",
   "metadata": {},
   "outputs": [
    {
     "name": "stderr",
     "output_type": "stream",
     "text": [
      "/tmp/ipykernel_71508/3734886687.py:1: LangChainDeprecationWarning: The method `Chain.run` was deprecated in langchain 0.1.0 and will be removed in 1.0. Use :meth:`~invoke` instead.\n",
      "  ques = ques_gen_chain.run(document_ques_gen)\n"
     ]
    },
    {
     "name": "stdout",
     "output_type": "stream",
     "text": [
      "\n",
      "\n",
      "\u001b[1m> Entering new RefineDocumentsChain chain...\u001b[0m\n",
      "\n",
      "\n",
      "\u001b[1m> Entering new LLMChain chain...\u001b[0m\n",
      "Prompt after formatting:\n",
      "\u001b[32;1m\u001b[1;3m\n",
      "You are an expert at creating questions based on coding materials and documentation.\n",
      "Your goal is to prepare  a coder or a programmer for there exam and coding tests.\n",
      "Your do this by asking questions  about the text below:\n",
      "\n",
      "--------------\n",
      "Topic support guide \n",
      " \n",
      " \n",
      " \n",
      " \n",
      " \n",
      " \n",
      " \n",
      " \n",
      " \n",
      " \n",
      "Cambridge International AS & A Level \n",
      "Information Technology \n",
      "9626 \n",
      "For examination from 2017 \n",
      " \n",
      "Topic 1.1 Data, information and \n",
      "knowledgeCambridge International Examinations retains the copyright on all its publications.  \n",
      "Registered Centres are permitted to copy material from this booklet for their own  \n",
      "internal use. However, we cannot give permission to Centres to photocopy any \n",
      "material that is acknowledged to a third party even for internal use within a Centre. \n",
      " \n",
      "© Cambridge International Examinations 2015 \n",
      "Version 1Contents \n",
      " \n",
      " \n",
      "Introduction ................................................................................................................................... 2 \n",
      "How to use this guide .................................................................................................................. 2 \n",
      "Learning objectives ..................................................................................................................... 2 \n",
      "Prior knowledge ........................................................................................................................... 2 \n",
      "1. Key terms .................................................................................................................................. 3 \n",
      "2. Theory ........................................................................................................................................ 4 \n",
      "2.1 Introduction............................................................................................................................ 4 \n",
      "2.2 Data ...................................................................................................................................... 4 \n",
      "2.3 Information ............................................................................................................................ 5 \n",
      "2.4 Knowledge ............................................................................................................................ 5 \n",
      "3. Exam preparation ...................................................................................................................... 7 \n",
      "4. Further resources ..................................................................................................................... 8 \n",
      "Useful websites ........................................................................................................................... 8 \n",
      "5. Class and homework activities ................................................................................................ 9 \n",
      "5.1 During teaching ..................................................................................................................... 9 \n",
      "5.2 Topic consolidation .............................................................................................................. 10 \n",
      "5.3 End of topic test ................................................................................................................... 11Introduction \n",
      " \n",
      "Introduction \n",
      " \n",
      " \n",
      "How to use this guide \n",
      " \n",
      "The aim of this guide is to facilitate your teaching of Cambridge International AS & A Level \n",
      "Information Technology, syllabus topic 1.1 Data, information and knowledge.  This topic defines \n",
      "some of the fundamental concepts used in topic 1 Data, information, knowledge and processing, \n",
      "as well as in the syllabus as a whole    \n",
      " \n",
      "Section 1 lists some key terms used in this topic and their definitions. Section 2 Theory provides \n",
      "the basic theory that you will need for teaching this topic, including illustrative examples. Section 3 \n",
      "indicates what your learners need to know, understand, or be able to do for this topic in the \n",
      "examination. Section 4 lists some useful websites relevant to the topic for you or your learners to \n",
      "use. Section 5 provides activities for you to carry out with your learners to teach this topic, to \n",
      "consolidate, and to check learning.  \n",
      " \n",
      "Learning objectives \n",
      " \n",
      "Reading this guide should help you guide learners to cope with the following syllabus learning \n",
      "objectives: \n",
      " \n",
      "• define data, clearly identifying that data has no meaning \n",
      "• define information and show how data can become information through context and meaning \n",
      "• define knowledge and understand that information becomes knowledge when human \n",
      "experience is applied. \n",
      " \n",
      "Prior knowledge \n",
      " \n",
      "Before you begin teaching this topic: \n",
      "• If you look for information about data, information and knowledge make sure you \n",
      "only look at computing or information technology (IT) resources – many \n",
      "researchers in a variety of fields such as sociology, economics and science use \n",
      "the terms data and information to mean the same thing. \n",
      "• The term ‘data’ as used in the syllabus is often referred to in other fields as ‘raw \n",
      "data’. Make sure you are aware of this before you research the topic. \n",
      " \n",
      "2 Topic support guide 9626 Topic 1.1 Data, information and knowledgeKey terms \n",
      " \n",
      "1. Key terms \n",
      " \n",
      " \n",
      " \n",
      "Word/phrase Meaning \n",
      "data A collection of text, numbers or symbols in raw or unorganised form \n",
      "explicit \n",
      "knowledge \n",
      "Knowledge, such as facts, that can be easily passed on to others \n",
      "information Data that has been processed, e.g. grouped, normally by a computer, to give it \n",
      "meaning and make it interpretable \n",
      "knowledge The acquisition by a person of information such as facts,  or the understanding \n",
      "of information such as how to solve problems \n",
      "raw data Similar to data, the raw input of text, numbers and symbols that needs to be \n",
      "processed to give it meaning \n",
      "tacit \n",
      "knowledge \n",
      "Knowledge that is difficult to pass on to someone else, such as knowing how to \n",
      "do something \n",
      " Topic support guide 9626 Topic 1.1 Data, information and knowledge 3Theory \n",
      " \n",
      "2. Theory \n",
      " \n",
      " \n",
      "2.1 Introduction \n",
      " \n",
      "We live in the information age. In the same way that the development of industry created the \n",
      "industrial age, the development of information technology systems, and especially the internet, has \n",
      "created the information age. It has been a long-held belief by many philosophers that knowledge \n",
      "is power and that knowledge stems from understanding of information; information, in turn, is the \n",
      "assigning of meaning to data.  To develop learners' understanding of information technology, we \n",
      "start by defining these three related concepts. The topics are hierarchical in that: \n",
      " \n",
      " \n",
      " \n",
      "2.2 Data \n",
      " \n",
      "2.2.1 What is data? \n",
      " \n",
      "The concept of data as it is used in the syllabus is commonly referred to as ‘raw’ data – a collection \n",
      "of text, numbers and symbols with no meaning. Data therefore has to be processed, or provided \n",
      "with a context, before it can have meaning. \n",
      " \n",
      "Example \n",
      "• 3, 6, 9, 12 \n",
      "• cat, dog, gerbil, rabbit, cockatoo \n",
      "• 161.2, 175.3, 166.4, 164.7, 169.3 \n",
      "These are meaningless sets of data. They could be the first four answers in the 3 x table, \n",
      "a list of household pets and the heights of 15-year-old students but without a context we \n",
      "don’t know. \n",
      " \n",
      "Data \n",
      "becomes \n",
      "Information \n",
      "becomes \n",
      "Knowledge \n",
      "4 Topic support guide 9626 Topic 1.1 Data, information and knowledgeTheory \n",
      "2.3 Information \n",
      " \n",
      "2.3.1 What is information? \n",
      " \n",
      "It is important that students learn the concept of what ‘information’ is as used in information \n",
      "technology. Information is the result of processing data, usually by computer. This results in facts, \n",
      "which enables the processed data to be used in context and have meaning. Information is data \n",
      "that has meaning. \n",
      " \n",
      "2.3.2 When does data become information? \n",
      " \n",
      "Data on its own has no meaning.  It only takes on meaning and becomes information when it is \n",
      "interpreted. Data consists of raw facts and figures. When that data is processed into sets according \n",
      "to context, it provides information.  \n",
      " \n",
      "Data refers to raw input that when processed or arranged makes meaningful output. Information is \n",
      "usually the processed outcome of data. When data is processed into information, it becomes \n",
      "interpretable and gains significance. \n",
      " \n",
      "In IT, symbols, characters, images, or numbers are data. These are the inputs an IT system needs \n",
      "to process in order to produce a meaningful interpretation. In other words, data in a meaningful \n",
      "form becomes information. Information can be about facts, things, concepts, or anything relevant to \n",
      "the topic concerned.  It may provide answers to questions like who, which, when, why, what, and \n",
      "how. \n",
      " \n",
      "If we put Information into an equation it would look like this: \n",
      " \n",
      "Data + Meaning = Information \n",
      " \n",
      "Example \n",
      "Looking at the examples given for data: \n",
      "• 3, 6, 9, 12 \n",
      "• cat, dog, gerbil, rabbit, cockatoo \n",
      "• 161.2, 175.3, 166.4, 164.7, 169.3 \n",
      "Only when we assign a context or meaning does the data become information. It all \n",
      "becomes meaningful when we are told: \n",
      "• 3, 6, 9 and 12 are the first four answers in the 3 x table \n",
      "• cat, dog, gerbil, rabbit, cockatoo is a list of household pets \n",
      "• 161.2, 175.3, 166.4, 164.7, 169.3 are the heights of 15-year-old students. \n",
      " \n",
      "2.4 Knowledge \n",
      " \n",
      "2.4.1 What is knowledge? \n",
      " \n",
      "When someone memorises information this is often referred to as ‘rote-learning’ or ‘learning by \n",
      "heart’. We can then say that they have acquired some knowledge. Another form of knowledge is \n",
      "produced as a result of understanding information that has been given to us, and using that \n",
      "information to gain knowledge of how to solve problems. \n",
      " Topic support guide 9626 Topic 1.1 Data, information and knowledge 5Theory \n",
      " \n",
      "Knowledge can therefore be: \n",
      "• acquiring and remembering a set of facts, or \n",
      "• the use of information to solve problems. \n",
      " \n",
      "The first type is often called explicit knowledge. This is knowledge that can be easily passed on to \n",
      "others. Most forms of explicit knowledge can be stored in certain media. The information contained \n",
      "in encyclopedias and textbooks are good examples of explicit knowledge. \n",
      " \n",
      "The second type is called tacit knowledge. It is the kind of knowledge that is difficult to pass on to \n",
      "another person just by writing it down. For example, saying that Paris is the capital of France is \n",
      "explicit knowledge that can be written down, passed on, and understood by someone else. \n",
      "However, the ability to speak a foreign language, bake bread, program a computer or use \n",
      "complicated machinery requires additional pieces of knowledge (such as that gained through \n",
      "experience) that are not always known explicitly and are difficult to pass on to other users. \n",
      " \n",
      "2.4.2 How are data, information and knowledge linked? \n",
      " \n",
      "If we put Knowledge into an equation it would look like this: \n",
      " \n",
      "Information + application or use = Knowledge \n",
      " \n",
      "Example \n",
      "Looking at the examples given for data: \n",
      "• 3, 6, 9, 12 \n",
      "• cat, dog, gerbil, rabbit, cockatoo \n",
      "• 161.2, 175.3, 166.4, 164.7, 169.3 \n",
      "Only when we assign a context or meaning does the data become information. It all becomes \n",
      "meaningful when we are told: \n",
      "• 3, 6, 9 and 12 are the first four answers in the 3 x table \n",
      "• cat, dog, gerbil, rabbit, cockatoo is a list of household pets \n",
      "• 161.2, 175.3, 166.4, 164.7, 169.3 are the heights of the five tallest 15-year-old students in a \n",
      "class. \n",
      "If we now apply this information to gain further knowledge we could say that:  \n",
      "• 4, 8, 12 and 16 are the first four answers in the 4 x table (because the 3 x table starts at \n",
      "three and goes up in threes the 4 x table must start at four and go up in fours) \n",
      "• The tallest student is 175.3cm. \n",
      "• A lion is not a household pet as it is not in the list and it lives in the wild. \n",
      " \n",
      "6 Topic support guide 9626 Topic 1.1 Data, information and knowledgeExam preparation \n",
      " \n",
      "3. Exam preparation \n",
      " \n",
      " \n",
      "The topic of Data, information and knowledge requires learners to define and understand the \n",
      "meaning of these terms, as well as to be able to demonstrate how the topic is hierarchical (i.e. how \n",
      "data becomes information and how information becomes knowledge). Learners must know and \n",
      "understand these things in order to be able to answer any exam questions which may come up on \n",
      "this topic. \n",
      " \n",
      " Topic support guide 9626 Topic 1.1 Data, information and knowledge 7Further resources \n",
      " \n",
      "4. Further resources \n",
      " \n",
      " \n",
      "Useful websites \n",
      " \n",
      " \n",
      "www.teach-ict.com/as_a2_ict_new/ocr/AS_G061/ 311_data_info_knowledge/ \n",
      "data_info_knowledge/theory_data_info_know.html \n",
      " \n",
      "newstrainers.wordpress.com/2009/11/10/data-becomes-information/ \n",
      " \n",
      "8 Topic support guide 9626 Topic 1.1 Data, information and knowledgeClass and homework activities \n",
      " \n",
      "5. Class and homework activities \n",
      " \n",
      " \n",
      "5.1 During teaching  \n",
      " \n",
      "The following activities are suggested during the teaching of this topic. \n",
      " \n",
      "5.1.1 Data \n",
      " \n",
      "1) Start by asking learners to brainstorm the meaning of ‘data’, asking for definitions. An effective \n",
      "way of getting ideas is to tell learners that they are not allowed to comment on other learners’ ideas \n",
      "throughout the activity of brainstorming.  \n",
      " \n",
      "2) Ask learners to search for ‘data’ on the web and find definitions and examples. Make it clear that \n",
      "they will need to be careful and investigate only those sites that give IT/computing definitions. You \n",
      "could then bring the group together to discuss their findings and collectively come up with a \n",
      "definition and examples you are happy with. \n",
      "  \n",
      "5.1.2 Information \n",
      " \n",
      "1) Start by asking learners to brainstorm ‘information’, asking for definitions. Then ask them to \n",
      "search for ‘information’ on the internet to find definitions and examples. Make it clear that they will \n",
      "need to be careful and find only those sites that give IT/computing definitions. You could limit them \n",
      "to the three sites given in Section 4.  \n",
      " \n",
      "Bring the group together to discuss their findings and then collectively come up with a definition \n",
      "and examples you are happy with. \n",
      " \n",
      "2) Explain the following to your learners as a way of demonstrating how context and meaning are \n",
      "integral parts of what is considered information: \n",
      " \n",
      "The data item 01111101 could be the binary equivalent of the integer 125 or it could be binary for \n",
      "the ASCII code for the symbol  ‘}’ . How this number is processed determines how it is displayed, \n",
      "but as well as this there has to be a context.  \n",
      " \n",
      "If we know that 01111101 is the way the computer stores the re-order quantity in a stock file then \n",
      "we know it represents the integer 125. However, if we are told that it is part of a stored word-\n",
      "processed document then we can be confident that it represents the symbol  ‘}’. \n",
      " \n",
      "  \n",
      " Topic support guide 9626 Topic 1.1 Data, information and knowledge 95.1.3 Knowledge \n",
      " \n",
      "After repeating the type of activity that the learners undertook for data and information, give them \n",
      "this example: \n",
      " \n",
      " \n",
      "Data: The number 40 000 is a piece of data, as is the name Iqbal Ahmed. Without anything else to \n",
      "help us, these two items of data are meaningless. \n",
      " \n",
      "Information: If we now say that ‘Iqbal Ahmed is a teacher’ and ‘$40 000 is a teacher’s salary’, the \n",
      "data is given meaning or context, and makes more sense to us. \n",
      " \n",
      "Knowledge: builds on the information. Knowledge is ‘Iqbal Ahmed is a teacher and he earns  \n",
      "$40 000 per year’. \n",
      " \n",
      " \n",
      "Then ask learners to come up with their own examples. \n",
      " \n",
      " \n",
      "5.2 Topic consolidation \n",
      " \n",
      "The following activities are suggested to consolidate your students’ learning after they have studied \n",
      "this topic: \n",
      " \n",
      "5.2.1 Sixty second challenge – sum up knowledge learned in this topic \n",
      " \n",
      "Give learners an A4 piece of paper and ask them to write down everything they can remember \n",
      "about the topic Data, Information and knowledge in 60 seconds. No outside resources such as \n",
      "textbooks, their lesson notes or computers are allowed. \n",
      " \n",
      "Learners then work in groups of four to compare their ideas, and using a side of A3 paper, copy \n",
      "out the relevant points for displaying in the classroom. \n",
      " \n",
      "5.2.2 Write the new words you have learnt in this topic and what they mean in terms of \n",
      "information technology \n",
      " \n",
      "Again each learner should have a piece of A4 paper to write on, but this activity is not limited by an \n",
      "amount of time. You may need to bring the activity to an end when the majority of the learners \n",
      "have completed the activity. \n",
      " \n",
      "You could collect and collate these responses and display the better ones on a wall of the \n",
      "classroom to be used by learners as a visual stimulus when revising. \n",
      " \n",
      "5.2.3 Self-assessment – record what you’ve learnt, any difficulties you have had and set \n",
      "your personal targets for learning. \n",
      " \n",
      "This activity is not time limited but you will need to be aware of when your learners have started to \n",
      "run out of ideas. \n",
      " \n",
      "Learners will need to set their own targets for learning and together with you, will need to devise \n",
      "methods by which they can achieve their targets. \n",
      " \n",
      "5.2.4 Change of role – student as teacher. What questions would you ask the class and \n",
      "why?Class and homework activities \n",
      "Ask learners to imagine they are the teacher. They write down three questions they would ask the \n",
      "other learners that would fully show that they have understood the topic. \n",
      " \n",
      "One learner then uses their questions to ask the other learners about the topic. After learners have \n",
      "answered the questions, ask the group to comment on whether the questions were detailed \n",
      "enough. Give them a few minutes to refine their own questions.   \n",
      " \n",
      "Other learners in turn take the role of the teacher, allowing time to refine questions each time a \n",
      "learner finishes asking questions. \n",
      " \n",
      "Note: The number of learners allowed to ask questions needs to be small unless the group is \n",
      "small. \n",
      " \n",
      "5.2.5 Consolidation using question and answer cards \n",
      " \n",
      "This activity is only suitable for medium to large teaching groups (at least eight learners). \n",
      "Create cards (and laminate them if possible) with a question on one card and the answer on \n",
      "another.  Mix the cards up, and give each learner two cards – an answer card and a question card, \n",
      "so that learners don’t have a matching question and answer. Ask the learners to stand up. \n",
      " \n",
      "Select a learner to start by asking their question (read from the card). The learner with the correct \n",
      "answer shows their answer card. They then ask their question from their question card and sit \n",
      "down. The activity continues until there are no learners left standing.   \n",
      " \n",
      " \n",
      "5.3 End of topic test \n",
      " \n",
      "1. Explain the difference between data and information. [2 marks] \n",
      "2. Describe how data becomes knowledge. [3 marks] \n",
      "3. 5, 10, 15, 20 are items of data. Explain how these could become information and what \n",
      "knowledge could be gained from them. [4 marks] \n",
      " \n",
      " Topic support guide 9626 Topic 1.1 Data, information and knowledge 11Cambridge International Examinations \n",
      "1 Hills Road, Cambridge, CB1 2EU, United Kingdom \n",
      "Tel: +44 (0)1223 553554 Fax: +44 (0)1223 553558 \n",
      "Email: info@cie.org.uk www.cie.org.uk\n",
      "--------------\n",
      "\n",
      "Create questions that will prepare the coders or programmers for their tests.\n",
      "Make sure not to lose any important information\n",
      "\n",
      "Questions:\n",
      "\u001b[0m\n",
      "\n",
      "\u001b[1m> Finished chain.\u001b[0m\n",
      "\n",
      "\u001b[1m> Finished chain.\u001b[0m\n"
     ]
    },
    {
     "data": {
      "text/plain": [
       "'Here are some questions based on the provided text to help prepare coders or programmers for their tests:\\n\\n**Multiple Choice Questions**\\n\\n1. What is the primary difference between data and information?\\na) Data is processed, while information is raw\\nb) Data has meaning, while information does not\\nc) Data has no meaning, while information has meaning\\nd) Data is used for storage, while information is used for processing\\n\\nAnswer: c) Data has no meaning, while information has meaning\\n\\n2. What is the equation for converting data into information?\\na) Data + Context = Information\\nb) Data + Meaning = Information\\nc) Data - Meaning = Information\\nd) Information - Data = Knowledge\\n\\nAnswer: b) Data + Meaning = Information\\n\\n3. What is the term for knowledge that can be easily passed on to others?\\na) Tacit knowledge\\nb) Explicit knowledge\\nc) Implicit knowledge\\nd) Raw data\\n\\nAnswer: b) Explicit knowledge\\n\\n4. What is the term for knowledge that is difficult to pass on to others?\\na) Tacit knowledge\\nb) Explicit knowledge\\nc) Implicit knowledge\\nd) Raw data\\n\\nAnswer: a) Tacit knowledge\\n\\n5. What is the equation for converting information into knowledge?\\na) Information + Application = Knowledge\\nb) Data + Meaning = Knowledge\\nc) Data + Context = Knowledge\\nd) Information - Data = Knowledge\\n\\nAnswer: a) Information + Application or use = Knowledge\\n\\n**Short Answer Questions**\\n\\n1. Explain the difference between data and information. Provide an example of how data can become information.\\n\\n2. Describe the process of how data becomes knowledge. Provide an example to illustrate your answer.\\n\\n3. What is the difference between explicit and tacit knowledge? Provide examples of each.\\n\\n**Long Answer Questions**\\n\\n1. Explain the concept of data, information, and knowledge. How do these concepts relate to each other? Provide examples to illustrate your answer.\\n\\n2. Discuss the importance of understanding the difference between data, information, and knowledge in the context of information technology. Provide examples of how these concepts are used in real-world applications.\\n\\n**True or False Questions**\\n\\n1. True or False: Data has meaning without context.\\n\\n2. True or False: Information is the same as knowledge.\\n\\n3. True or False: Tacit knowledge can be easily passed on to others.\\n\\n**Fill-in-the-blank Questions**\\n\\n1. Data becomes information when it is given _______________________.\\n\\n2. The process of converting data into information involves giving data _______________________.\\n\\n3. Knowledge is acquired by applying _______________________ to information.\\n\\n**Essay Questions**\\n\\n1. Discuss the concept of data, information, and knowledge in the context of information technology. How do these concepts relate to each other, and why are they important in the field of IT?\\n\\n2. Explain how data becomes information, and how information becomes knowledge. Provide examples to illustrate your answer.\\n\\n3. Describe the differences between explicit and tacit knowledge. Provide examples of each and explain why they are important in the context of information technology.\\n\\n**Case Study Questions**\\n\\n1. A company has collected data on customer purchases. Explain how this data can be converted into information, and how this information can be used to gain knowledge about customer behavior.\\n\\n2. A programmer has been tasked with creating a system to store and process data. Explain how the programmer can use data to create information, and how this information can be used to gain knowledge about the system.\\n\\n3. A student has collected data on student grades. Explain how this data can be converted into information, and how this information can be used to gain knowledge about student performance.'"
      ]
     },
     "execution_count": 32,
     "metadata": {},
     "output_type": "execute_result"
    }
   ],
   "source": [
    "ques = ques_gen_chain.run(document_ques_gen)\n",
    "ques"
   ]
  },
  {
   "cell_type": "code",
   "execution_count": 33,
   "id": "f6443c5c",
   "metadata": {},
   "outputs": [],
   "source": [
    "from langchain.embeddings import HuggingFaceEmbeddings"
   ]
  },
  {
   "cell_type": "code",
   "execution_count": 34,
   "id": "b40c16b3",
   "metadata": {},
   "outputs": [
    {
     "name": "stderr",
     "output_type": "stream",
     "text": [
      "/tmp/ipykernel_71508/2611153881.py:1: LangChainDeprecationWarning: The class `HuggingFaceEmbeddings` was deprecated in LangChain 0.2.2 and will be removed in 1.0. An updated version of the class exists in the :class:`~langchain-huggingface package and should be used instead. To use it run `pip install -U :class:`~langchain-huggingface` and import as `from :class:`~langchain_huggingface import HuggingFaceEmbeddings``.\n",
      "  embeddings = HuggingFaceEmbeddings(model_name=\"all-MiniLM-L6-v2\")\n",
      "/home/abdul-moeez/anaconda3/envs/interview/lib/python3.10/site-packages/tqdm/auto.py:21: TqdmWarning: IProgress not found. Please update jupyter and ipywidgets. See https://ipywidgets.readthedocs.io/en/stable/user_install.html\n",
      "  from .autonotebook import tqdm as notebook_tqdm\n"
     ]
    }
   ],
   "source": [
    "embeddings = HuggingFaceEmbeddings(model_name=\"all-MiniLM-L6-v2\")\n"
   ]
  },
  {
   "cell_type": "code",
   "execution_count": 35,
   "id": "47257ee7",
   "metadata": {},
   "outputs": [],
   "source": [
    "from langchain.vectorstores import FAISS"
   ]
  },
  {
   "cell_type": "code",
   "execution_count": 36,
   "id": "72083fa8",
   "metadata": {},
   "outputs": [],
   "source": [
    "vector_store = FAISS.from_documents(document_answer_gen, embeddings)"
   ]
  },
  {
   "cell_type": "code",
   "execution_count": 37,
   "id": "e7749e65",
   "metadata": {},
   "outputs": [
    {
     "data": {
      "text/plain": [
       "<langchain_community.vectorstores.faiss.FAISS at 0x70a4993a1960>"
      ]
     },
     "execution_count": 37,
     "metadata": {},
     "output_type": "execute_result"
    }
   ],
   "source": [
    "vector_store"
   ]
  },
  {
   "cell_type": "code",
   "execution_count": 38,
   "id": "49b2e44d",
   "metadata": {},
   "outputs": [],
   "source": [
    "chat = ChatGroq(temperature=0.3, \n",
    "                model_name=\"llama-3.3-70b-versatile\")\n"
   ]
  },
  {
   "cell_type": "code",
   "execution_count": 39,
   "id": "fe5011f9",
   "metadata": {},
   "outputs": [
    {
     "data": {
      "text/plain": [
       "['Here are some questions based on the provided text to help prepare coders or programmers for their tests:',\n",
       " '',\n",
       " '**Multiple Choice Questions**',\n",
       " '',\n",
       " '1. What is the primary difference between data and information?',\n",
       " 'a) Data is processed, while information is raw',\n",
       " 'b) Data has meaning, while information does not',\n",
       " 'c) Data has no meaning, while information has meaning',\n",
       " 'd) Data is used for storage, while information is used for processing',\n",
       " '',\n",
       " 'Answer: c) Data has no meaning, while information has meaning',\n",
       " '',\n",
       " '2. What is the equation for converting data into information?',\n",
       " 'a) Data + Context = Information',\n",
       " 'b) Data + Meaning = Information',\n",
       " 'c) Data - Meaning = Information',\n",
       " 'd) Information - Data = Knowledge',\n",
       " '',\n",
       " 'Answer: b) Data + Meaning = Information',\n",
       " '',\n",
       " '3. What is the term for knowledge that can be easily passed on to others?',\n",
       " 'a) Tacit knowledge',\n",
       " 'b) Explicit knowledge',\n",
       " 'c) Implicit knowledge',\n",
       " 'd) Raw data',\n",
       " '',\n",
       " 'Answer: b) Explicit knowledge',\n",
       " '',\n",
       " '4. What is the term for knowledge that is difficult to pass on to others?',\n",
       " 'a) Tacit knowledge',\n",
       " 'b) Explicit knowledge',\n",
       " 'c) Implicit knowledge',\n",
       " 'd) Raw data',\n",
       " '',\n",
       " 'Answer: a) Tacit knowledge',\n",
       " '',\n",
       " '5. What is the equation for converting information into knowledge?',\n",
       " 'a) Information + Application = Knowledge',\n",
       " 'b) Data + Meaning = Knowledge',\n",
       " 'c) Data + Context = Knowledge',\n",
       " 'd) Information - Data = Knowledge',\n",
       " '',\n",
       " 'Answer: a) Information + Application or use = Knowledge',\n",
       " '',\n",
       " '**Short Answer Questions**',\n",
       " '',\n",
       " '1. Explain the difference between data and information. Provide an example of how data can become information.',\n",
       " '',\n",
       " '2. Describe the process of how data becomes knowledge. Provide an example to illustrate your answer.',\n",
       " '',\n",
       " '3. What is the difference between explicit and tacit knowledge? Provide examples of each.',\n",
       " '',\n",
       " '**Long Answer Questions**',\n",
       " '',\n",
       " '1. Explain the concept of data, information, and knowledge. How do these concepts relate to each other? Provide examples to illustrate your answer.',\n",
       " '',\n",
       " '2. Discuss the importance of understanding the difference between data, information, and knowledge in the context of information technology. Provide examples of how these concepts are used in real-world applications.',\n",
       " '',\n",
       " '**True or False Questions**',\n",
       " '',\n",
       " '1. True or False: Data has meaning without context.',\n",
       " '',\n",
       " '2. True or False: Information is the same as knowledge.',\n",
       " '',\n",
       " '3. True or False: Tacit knowledge can be easily passed on to others.',\n",
       " '',\n",
       " '**Fill-in-the-blank Questions**',\n",
       " '',\n",
       " '1. Data becomes information when it is given _______________________.',\n",
       " '',\n",
       " '2. The process of converting data into information involves giving data _______________________.',\n",
       " '',\n",
       " '3. Knowledge is acquired by applying _______________________ to information.',\n",
       " '',\n",
       " '**Essay Questions**',\n",
       " '',\n",
       " '1. Discuss the concept of data, information, and knowledge in the context of information technology. How do these concepts relate to each other, and why are they important in the field of IT?',\n",
       " '',\n",
       " '2. Explain how data becomes information, and how information becomes knowledge. Provide examples to illustrate your answer.',\n",
       " '',\n",
       " '3. Describe the differences between explicit and tacit knowledge. Provide examples of each and explain why they are important in the context of information technology.',\n",
       " '',\n",
       " '**Case Study Questions**',\n",
       " '',\n",
       " '1. A company has collected data on customer purchases. Explain how this data can be converted into information, and how this information can be used to gain knowledge about customer behavior.',\n",
       " '',\n",
       " '2. A programmer has been tasked with creating a system to store and process data. Explain how the programmer can use data to create information, and how this information can be used to gain knowledge about the system.',\n",
       " '',\n",
       " '3. A student has collected data on student grades. Explain how this data can be converted into information, and how this information can be used to gain knowledge about student performance.']"
      ]
     },
     "execution_count": 39,
     "metadata": {},
     "output_type": "execute_result"
    }
   ],
   "source": [
    "quest_list = ques.split('\\n')\n",
    "quest_list"
   ]
  },
  {
   "cell_type": "code",
   "execution_count": 40,
   "id": "06e04df3",
   "metadata": {},
   "outputs": [],
   "source": [
    "from langchain.chains import RetrievalQA"
   ]
  },
  {
   "cell_type": "code",
   "execution_count": 41,
   "id": "21c2ff24",
   "metadata": {},
   "outputs": [],
   "source": [
    "answer_generation_chain = RetrievalQA.from_chain_type(\n",
    "    llm = chat,\n",
    "    chain_type=\"stuff\",\n",
    "    retriever=vector_store.as_retriever()\n",
    ")"
   ]
  },
  {
   "cell_type": "code",
   "execution_count": 42,
   "id": "956e5f1e",
   "metadata": {},
   "outputs": [
    {
     "name": "stdout",
     "output_type": "stream",
     "text": [
      "Question: Here are some questions based on the provided text to help prepare coders or programmers for their tests:\n",
      "Answer I'm ready to help. What are the questions? Go ahead and ask away, and I'll do my best to provide answers based on the provided text about Cambridge International AS & A Level Information Technology, specifically topic 1.1 Data, information, and knowledge.\n",
      "------------------------------------\\n\\n\n",
      "Question: \n",
      "Answer It looks like you didn't ask a question. Please go ahead and ask your question about the topic \"Data, information and knowledge\" from the Cambridge International AS & A Level Information Technology syllabus, and I'll do my best to help.\n",
      "------------------------------------\\n\\n\n",
      "Question: **Multiple Choice Questions**\n"
     ]
    },
    {
     "ename": "RateLimitError",
     "evalue": "Error code: 429 - {'error': {'message': 'Rate limit reached for model `llama-3.3-70b-versatile` in organization `org_01jsrpqcbafzvt92krfss99aad` service tier `on_demand` on tokens per day (TPD): Limit 100000, Used 98571, Requested 4718. Please try again in 47m20.845s. Need more tokens? Upgrade to Dev Tier today at https://console.groq.com/settings/billing', 'type': 'tokens', 'code': 'rate_limit_exceeded'}}",
     "output_type": "error",
     "traceback": [
      "\u001b[0;31m---------------------------------------------------------------------------\u001b[0m",
      "\u001b[0;31mRateLimitError\u001b[0m                            Traceback (most recent call last)",
      "Cell \u001b[0;32mIn[42], line 3\u001b[0m\n\u001b[1;32m      1\u001b[0m \u001b[38;5;28;01mfor\u001b[39;00m question \u001b[38;5;129;01min\u001b[39;00m quest_list:\n\u001b[1;32m      2\u001b[0m     \u001b[38;5;28mprint\u001b[39m(\u001b[38;5;124m\"\u001b[39m\u001b[38;5;124mQuestion:\u001b[39m\u001b[38;5;124m\"\u001b[39m, question)\n\u001b[0;32m----> 3\u001b[0m     answer\u001b[38;5;241m=\u001b[39m \u001b[43manswer_generation_chain\u001b[49m\u001b[38;5;241;43m.\u001b[39;49m\u001b[43mrun\u001b[49m\u001b[43m(\u001b[49m\u001b[43mquestion\u001b[49m\u001b[43m)\u001b[49m\n\u001b[1;32m      4\u001b[0m     \u001b[38;5;28mprint\u001b[39m(\u001b[38;5;124m\"\u001b[39m\u001b[38;5;124mAnswer\u001b[39m\u001b[38;5;124m\"\u001b[39m, answer)\n\u001b[1;32m      5\u001b[0m     \u001b[38;5;28mprint\u001b[39m(\u001b[38;5;124m\"\u001b[39m\u001b[38;5;124m------------------------------------\u001b[39m\u001b[38;5;130;01m\\\\\u001b[39;00m\u001b[38;5;124mn\u001b[39m\u001b[38;5;130;01m\\\\\u001b[39;00m\u001b[38;5;124mn\u001b[39m\u001b[38;5;124m\"\u001b[39m)\n",
      "File \u001b[0;32m~/anaconda3/envs/interview/lib/python3.10/site-packages/langchain_core/_api/deprecation.py:191\u001b[0m, in \u001b[0;36mdeprecated.<locals>.deprecate.<locals>.warning_emitting_wrapper\u001b[0;34m(*args, **kwargs)\u001b[0m\n\u001b[1;32m    189\u001b[0m     warned \u001b[38;5;241m=\u001b[39m \u001b[38;5;28;01mTrue\u001b[39;00m\n\u001b[1;32m    190\u001b[0m     emit_warning()\n\u001b[0;32m--> 191\u001b[0m \u001b[38;5;28;01mreturn\u001b[39;00m \u001b[43mwrapped\u001b[49m\u001b[43m(\u001b[49m\u001b[38;5;241;43m*\u001b[39;49m\u001b[43margs\u001b[49m\u001b[43m,\u001b[49m\u001b[43m \u001b[49m\u001b[38;5;241;43m*\u001b[39;49m\u001b[38;5;241;43m*\u001b[39;49m\u001b[43mkwargs\u001b[49m\u001b[43m)\u001b[49m\n",
      "File \u001b[0;32m~/anaconda3/envs/interview/lib/python3.10/site-packages/langchain/chains/base.py:603\u001b[0m, in \u001b[0;36mChain.run\u001b[0;34m(self, callbacks, tags, metadata, *args, **kwargs)\u001b[0m\n\u001b[1;32m    601\u001b[0m     \u001b[38;5;28;01mif\u001b[39;00m \u001b[38;5;28mlen\u001b[39m(args) \u001b[38;5;241m!=\u001b[39m \u001b[38;5;241m1\u001b[39m:\n\u001b[1;32m    602\u001b[0m         \u001b[38;5;28;01mraise\u001b[39;00m \u001b[38;5;167;01mValueError\u001b[39;00m(\u001b[38;5;124m\"\u001b[39m\u001b[38;5;124m`run` supports only one positional argument.\u001b[39m\u001b[38;5;124m\"\u001b[39m)\n\u001b[0;32m--> 603\u001b[0m     \u001b[38;5;28;01mreturn\u001b[39;00m \u001b[38;5;28;43mself\u001b[39;49m\u001b[43m(\u001b[49m\u001b[43margs\u001b[49m\u001b[43m[\u001b[49m\u001b[38;5;241;43m0\u001b[39;49m\u001b[43m]\u001b[49m\u001b[43m,\u001b[49m\u001b[43m \u001b[49m\u001b[43mcallbacks\u001b[49m\u001b[38;5;241;43m=\u001b[39;49m\u001b[43mcallbacks\u001b[49m\u001b[43m,\u001b[49m\u001b[43m \u001b[49m\u001b[43mtags\u001b[49m\u001b[38;5;241;43m=\u001b[39;49m\u001b[43mtags\u001b[49m\u001b[43m,\u001b[49m\u001b[43m \u001b[49m\u001b[43mmetadata\u001b[49m\u001b[38;5;241;43m=\u001b[39;49m\u001b[43mmetadata\u001b[49m\u001b[43m)\u001b[49m[\n\u001b[1;32m    604\u001b[0m         _output_key\n\u001b[1;32m    605\u001b[0m     ]\n\u001b[1;32m    607\u001b[0m \u001b[38;5;28;01mif\u001b[39;00m kwargs \u001b[38;5;129;01mand\u001b[39;00m \u001b[38;5;129;01mnot\u001b[39;00m args:\n\u001b[1;32m    608\u001b[0m     \u001b[38;5;28;01mreturn\u001b[39;00m \u001b[38;5;28mself\u001b[39m(kwargs, callbacks\u001b[38;5;241m=\u001b[39mcallbacks, tags\u001b[38;5;241m=\u001b[39mtags, metadata\u001b[38;5;241m=\u001b[39mmetadata)[\n\u001b[1;32m    609\u001b[0m         _output_key\n\u001b[1;32m    610\u001b[0m     ]\n",
      "File \u001b[0;32m~/anaconda3/envs/interview/lib/python3.10/site-packages/langchain_core/_api/deprecation.py:191\u001b[0m, in \u001b[0;36mdeprecated.<locals>.deprecate.<locals>.warning_emitting_wrapper\u001b[0;34m(*args, **kwargs)\u001b[0m\n\u001b[1;32m    189\u001b[0m     warned \u001b[38;5;241m=\u001b[39m \u001b[38;5;28;01mTrue\u001b[39;00m\n\u001b[1;32m    190\u001b[0m     emit_warning()\n\u001b[0;32m--> 191\u001b[0m \u001b[38;5;28;01mreturn\u001b[39;00m \u001b[43mwrapped\u001b[49m\u001b[43m(\u001b[49m\u001b[38;5;241;43m*\u001b[39;49m\u001b[43margs\u001b[49m\u001b[43m,\u001b[49m\u001b[43m \u001b[49m\u001b[38;5;241;43m*\u001b[39;49m\u001b[38;5;241;43m*\u001b[39;49m\u001b[43mkwargs\u001b[49m\u001b[43m)\u001b[49m\n",
      "File \u001b[0;32m~/anaconda3/envs/interview/lib/python3.10/site-packages/langchain/chains/base.py:386\u001b[0m, in \u001b[0;36mChain.__call__\u001b[0;34m(self, inputs, return_only_outputs, callbacks, tags, metadata, run_name, include_run_info)\u001b[0m\n\u001b[1;32m    354\u001b[0m \u001b[38;5;250m\u001b[39m\u001b[38;5;124;03m\"\"\"Execute the chain.\u001b[39;00m\n\u001b[1;32m    355\u001b[0m \n\u001b[1;32m    356\u001b[0m \u001b[38;5;124;03mArgs:\u001b[39;00m\n\u001b[0;32m   (...)\u001b[0m\n\u001b[1;32m    377\u001b[0m \u001b[38;5;124;03m        `Chain.output_keys`.\u001b[39;00m\n\u001b[1;32m    378\u001b[0m \u001b[38;5;124;03m\"\"\"\u001b[39;00m\n\u001b[1;32m    379\u001b[0m config \u001b[38;5;241m=\u001b[39m {\n\u001b[1;32m    380\u001b[0m     \u001b[38;5;124m\"\u001b[39m\u001b[38;5;124mcallbacks\u001b[39m\u001b[38;5;124m\"\u001b[39m: callbacks,\n\u001b[1;32m    381\u001b[0m     \u001b[38;5;124m\"\u001b[39m\u001b[38;5;124mtags\u001b[39m\u001b[38;5;124m\"\u001b[39m: tags,\n\u001b[1;32m    382\u001b[0m     \u001b[38;5;124m\"\u001b[39m\u001b[38;5;124mmetadata\u001b[39m\u001b[38;5;124m\"\u001b[39m: metadata,\n\u001b[1;32m    383\u001b[0m     \u001b[38;5;124m\"\u001b[39m\u001b[38;5;124mrun_name\u001b[39m\u001b[38;5;124m\"\u001b[39m: run_name,\n\u001b[1;32m    384\u001b[0m }\n\u001b[0;32m--> 386\u001b[0m \u001b[38;5;28;01mreturn\u001b[39;00m \u001b[38;5;28;43mself\u001b[39;49m\u001b[38;5;241;43m.\u001b[39;49m\u001b[43minvoke\u001b[49m\u001b[43m(\u001b[49m\n\u001b[1;32m    387\u001b[0m \u001b[43m    \u001b[49m\u001b[43minputs\u001b[49m\u001b[43m,\u001b[49m\n\u001b[1;32m    388\u001b[0m \u001b[43m    \u001b[49m\u001b[43mcast\u001b[49m\u001b[43m(\u001b[49m\u001b[43mRunnableConfig\u001b[49m\u001b[43m,\u001b[49m\u001b[43m \u001b[49m\u001b[43m{\u001b[49m\u001b[43mk\u001b[49m\u001b[43m:\u001b[49m\u001b[43m \u001b[49m\u001b[43mv\u001b[49m\u001b[43m \u001b[49m\u001b[38;5;28;43;01mfor\u001b[39;49;00m\u001b[43m \u001b[49m\u001b[43mk\u001b[49m\u001b[43m,\u001b[49m\u001b[43m \u001b[49m\u001b[43mv\u001b[49m\u001b[43m \u001b[49m\u001b[38;5;129;43;01min\u001b[39;49;00m\u001b[43m \u001b[49m\u001b[43mconfig\u001b[49m\u001b[38;5;241;43m.\u001b[39;49m\u001b[43mitems\u001b[49m\u001b[43m(\u001b[49m\u001b[43m)\u001b[49m\u001b[43m \u001b[49m\u001b[38;5;28;43;01mif\u001b[39;49;00m\u001b[43m \u001b[49m\u001b[43mv\u001b[49m\u001b[43m \u001b[49m\u001b[38;5;129;43;01mis\u001b[39;49;00m\u001b[43m \u001b[49m\u001b[38;5;129;43;01mnot\u001b[39;49;00m\u001b[43m \u001b[49m\u001b[38;5;28;43;01mNone\u001b[39;49;00m\u001b[43m}\u001b[49m\u001b[43m)\u001b[49m\u001b[43m,\u001b[49m\n\u001b[1;32m    389\u001b[0m \u001b[43m    \u001b[49m\u001b[43mreturn_only_outputs\u001b[49m\u001b[38;5;241;43m=\u001b[39;49m\u001b[43mreturn_only_outputs\u001b[49m\u001b[43m,\u001b[49m\n\u001b[1;32m    390\u001b[0m \u001b[43m    \u001b[49m\u001b[43minclude_run_info\u001b[49m\u001b[38;5;241;43m=\u001b[39;49m\u001b[43minclude_run_info\u001b[49m\u001b[43m,\u001b[49m\n\u001b[1;32m    391\u001b[0m \u001b[43m\u001b[49m\u001b[43m)\u001b[49m\n",
      "File \u001b[0;32m~/anaconda3/envs/interview/lib/python3.10/site-packages/langchain/chains/base.py:167\u001b[0m, in \u001b[0;36mChain.invoke\u001b[0;34m(self, input, config, **kwargs)\u001b[0m\n\u001b[1;32m    165\u001b[0m \u001b[38;5;28;01mexcept\u001b[39;00m \u001b[38;5;167;01mBaseException\u001b[39;00m \u001b[38;5;28;01mas\u001b[39;00m e:\n\u001b[1;32m    166\u001b[0m     run_manager\u001b[38;5;241m.\u001b[39mon_chain_error(e)\n\u001b[0;32m--> 167\u001b[0m     \u001b[38;5;28;01mraise\u001b[39;00m e\n\u001b[1;32m    168\u001b[0m run_manager\u001b[38;5;241m.\u001b[39mon_chain_end(outputs)\n\u001b[1;32m    170\u001b[0m \u001b[38;5;28;01mif\u001b[39;00m include_run_info:\n",
      "File \u001b[0;32m~/anaconda3/envs/interview/lib/python3.10/site-packages/langchain/chains/base.py:157\u001b[0m, in \u001b[0;36mChain.invoke\u001b[0;34m(self, input, config, **kwargs)\u001b[0m\n\u001b[1;32m    154\u001b[0m \u001b[38;5;28;01mtry\u001b[39;00m:\n\u001b[1;32m    155\u001b[0m     \u001b[38;5;28mself\u001b[39m\u001b[38;5;241m.\u001b[39m_validate_inputs(inputs)\n\u001b[1;32m    156\u001b[0m     outputs \u001b[38;5;241m=\u001b[39m (\n\u001b[0;32m--> 157\u001b[0m         \u001b[38;5;28;43mself\u001b[39;49m\u001b[38;5;241;43m.\u001b[39;49m\u001b[43m_call\u001b[49m\u001b[43m(\u001b[49m\u001b[43minputs\u001b[49m\u001b[43m,\u001b[49m\u001b[43m \u001b[49m\u001b[43mrun_manager\u001b[49m\u001b[38;5;241;43m=\u001b[39;49m\u001b[43mrun_manager\u001b[49m\u001b[43m)\u001b[49m\n\u001b[1;32m    158\u001b[0m         \u001b[38;5;28;01mif\u001b[39;00m new_arg_supported\n\u001b[1;32m    159\u001b[0m         \u001b[38;5;28;01melse\u001b[39;00m \u001b[38;5;28mself\u001b[39m\u001b[38;5;241m.\u001b[39m_call(inputs)\n\u001b[1;32m    160\u001b[0m     )\n\u001b[1;32m    162\u001b[0m     final_outputs: \u001b[38;5;28mdict\u001b[39m[\u001b[38;5;28mstr\u001b[39m, Any] \u001b[38;5;241m=\u001b[39m \u001b[38;5;28mself\u001b[39m\u001b[38;5;241m.\u001b[39mprep_outputs(\n\u001b[1;32m    163\u001b[0m         inputs, outputs, return_only_outputs\n\u001b[1;32m    164\u001b[0m     )\n\u001b[1;32m    165\u001b[0m \u001b[38;5;28;01mexcept\u001b[39;00m \u001b[38;5;167;01mBaseException\u001b[39;00m \u001b[38;5;28;01mas\u001b[39;00m e:\n",
      "File \u001b[0;32m~/anaconda3/envs/interview/lib/python3.10/site-packages/langchain/chains/retrieval_qa/base.py:154\u001b[0m, in \u001b[0;36mBaseRetrievalQA._call\u001b[0;34m(self, inputs, run_manager)\u001b[0m\n\u001b[1;32m    152\u001b[0m \u001b[38;5;28;01melse\u001b[39;00m:\n\u001b[1;32m    153\u001b[0m     docs \u001b[38;5;241m=\u001b[39m \u001b[38;5;28mself\u001b[39m\u001b[38;5;241m.\u001b[39m_get_docs(question)  \u001b[38;5;66;03m# type: ignore[call-arg]\u001b[39;00m\n\u001b[0;32m--> 154\u001b[0m answer \u001b[38;5;241m=\u001b[39m \u001b[38;5;28;43mself\u001b[39;49m\u001b[38;5;241;43m.\u001b[39;49m\u001b[43mcombine_documents_chain\u001b[49m\u001b[38;5;241;43m.\u001b[39;49m\u001b[43mrun\u001b[49m\u001b[43m(\u001b[49m\n\u001b[1;32m    155\u001b[0m \u001b[43m    \u001b[49m\u001b[43minput_documents\u001b[49m\u001b[38;5;241;43m=\u001b[39;49m\u001b[43mdocs\u001b[49m\u001b[43m,\u001b[49m\u001b[43m \u001b[49m\u001b[43mquestion\u001b[49m\u001b[38;5;241;43m=\u001b[39;49m\u001b[43mquestion\u001b[49m\u001b[43m,\u001b[49m\u001b[43m \u001b[49m\u001b[43mcallbacks\u001b[49m\u001b[38;5;241;43m=\u001b[39;49m\u001b[43m_run_manager\u001b[49m\u001b[38;5;241;43m.\u001b[39;49m\u001b[43mget_child\u001b[49m\u001b[43m(\u001b[49m\u001b[43m)\u001b[49m\n\u001b[1;32m    156\u001b[0m \u001b[43m\u001b[49m\u001b[43m)\u001b[49m\n\u001b[1;32m    158\u001b[0m \u001b[38;5;28;01mif\u001b[39;00m \u001b[38;5;28mself\u001b[39m\u001b[38;5;241m.\u001b[39mreturn_source_documents:\n\u001b[1;32m    159\u001b[0m     \u001b[38;5;28;01mreturn\u001b[39;00m {\u001b[38;5;28mself\u001b[39m\u001b[38;5;241m.\u001b[39moutput_key: answer, \u001b[38;5;124m\"\u001b[39m\u001b[38;5;124msource_documents\u001b[39m\u001b[38;5;124m\"\u001b[39m: docs}\n",
      "File \u001b[0;32m~/anaconda3/envs/interview/lib/python3.10/site-packages/langchain_core/_api/deprecation.py:191\u001b[0m, in \u001b[0;36mdeprecated.<locals>.deprecate.<locals>.warning_emitting_wrapper\u001b[0;34m(*args, **kwargs)\u001b[0m\n\u001b[1;32m    189\u001b[0m     warned \u001b[38;5;241m=\u001b[39m \u001b[38;5;28;01mTrue\u001b[39;00m\n\u001b[1;32m    190\u001b[0m     emit_warning()\n\u001b[0;32m--> 191\u001b[0m \u001b[38;5;28;01mreturn\u001b[39;00m \u001b[43mwrapped\u001b[49m\u001b[43m(\u001b[49m\u001b[38;5;241;43m*\u001b[39;49m\u001b[43margs\u001b[49m\u001b[43m,\u001b[49m\u001b[43m \u001b[49m\u001b[38;5;241;43m*\u001b[39;49m\u001b[38;5;241;43m*\u001b[39;49m\u001b[43mkwargs\u001b[49m\u001b[43m)\u001b[49m\n",
      "File \u001b[0;32m~/anaconda3/envs/interview/lib/python3.10/site-packages/langchain/chains/base.py:608\u001b[0m, in \u001b[0;36mChain.run\u001b[0;34m(self, callbacks, tags, metadata, *args, **kwargs)\u001b[0m\n\u001b[1;32m    603\u001b[0m     \u001b[38;5;28;01mreturn\u001b[39;00m \u001b[38;5;28mself\u001b[39m(args[\u001b[38;5;241m0\u001b[39m], callbacks\u001b[38;5;241m=\u001b[39mcallbacks, tags\u001b[38;5;241m=\u001b[39mtags, metadata\u001b[38;5;241m=\u001b[39mmetadata)[\n\u001b[1;32m    604\u001b[0m         _output_key\n\u001b[1;32m    605\u001b[0m     ]\n\u001b[1;32m    607\u001b[0m \u001b[38;5;28;01mif\u001b[39;00m kwargs \u001b[38;5;129;01mand\u001b[39;00m \u001b[38;5;129;01mnot\u001b[39;00m args:\n\u001b[0;32m--> 608\u001b[0m     \u001b[38;5;28;01mreturn\u001b[39;00m \u001b[38;5;28;43mself\u001b[39;49m\u001b[43m(\u001b[49m\u001b[43mkwargs\u001b[49m\u001b[43m,\u001b[49m\u001b[43m \u001b[49m\u001b[43mcallbacks\u001b[49m\u001b[38;5;241;43m=\u001b[39;49m\u001b[43mcallbacks\u001b[49m\u001b[43m,\u001b[49m\u001b[43m \u001b[49m\u001b[43mtags\u001b[49m\u001b[38;5;241;43m=\u001b[39;49m\u001b[43mtags\u001b[49m\u001b[43m,\u001b[49m\u001b[43m \u001b[49m\u001b[43mmetadata\u001b[49m\u001b[38;5;241;43m=\u001b[39;49m\u001b[43mmetadata\u001b[49m\u001b[43m)\u001b[49m[\n\u001b[1;32m    609\u001b[0m         _output_key\n\u001b[1;32m    610\u001b[0m     ]\n\u001b[1;32m    612\u001b[0m \u001b[38;5;28;01mif\u001b[39;00m \u001b[38;5;129;01mnot\u001b[39;00m kwargs \u001b[38;5;129;01mand\u001b[39;00m \u001b[38;5;129;01mnot\u001b[39;00m args:\n\u001b[1;32m    613\u001b[0m     \u001b[38;5;28;01mraise\u001b[39;00m \u001b[38;5;167;01mValueError\u001b[39;00m(\n\u001b[1;32m    614\u001b[0m         \u001b[38;5;124m\"\u001b[39m\u001b[38;5;124m`run` supported with either positional arguments or keyword arguments,\u001b[39m\u001b[38;5;124m\"\u001b[39m\n\u001b[1;32m    615\u001b[0m         \u001b[38;5;124m\"\u001b[39m\u001b[38;5;124m but none were provided.\u001b[39m\u001b[38;5;124m\"\u001b[39m\n\u001b[1;32m    616\u001b[0m     )\n",
      "File \u001b[0;32m~/anaconda3/envs/interview/lib/python3.10/site-packages/langchain_core/_api/deprecation.py:191\u001b[0m, in \u001b[0;36mdeprecated.<locals>.deprecate.<locals>.warning_emitting_wrapper\u001b[0;34m(*args, **kwargs)\u001b[0m\n\u001b[1;32m    189\u001b[0m     warned \u001b[38;5;241m=\u001b[39m \u001b[38;5;28;01mTrue\u001b[39;00m\n\u001b[1;32m    190\u001b[0m     emit_warning()\n\u001b[0;32m--> 191\u001b[0m \u001b[38;5;28;01mreturn\u001b[39;00m \u001b[43mwrapped\u001b[49m\u001b[43m(\u001b[49m\u001b[38;5;241;43m*\u001b[39;49m\u001b[43margs\u001b[49m\u001b[43m,\u001b[49m\u001b[43m \u001b[49m\u001b[38;5;241;43m*\u001b[39;49m\u001b[38;5;241;43m*\u001b[39;49m\u001b[43mkwargs\u001b[49m\u001b[43m)\u001b[49m\n",
      "File \u001b[0;32m~/anaconda3/envs/interview/lib/python3.10/site-packages/langchain/chains/base.py:386\u001b[0m, in \u001b[0;36mChain.__call__\u001b[0;34m(self, inputs, return_only_outputs, callbacks, tags, metadata, run_name, include_run_info)\u001b[0m\n\u001b[1;32m    354\u001b[0m \u001b[38;5;250m\u001b[39m\u001b[38;5;124;03m\"\"\"Execute the chain.\u001b[39;00m\n\u001b[1;32m    355\u001b[0m \n\u001b[1;32m    356\u001b[0m \u001b[38;5;124;03mArgs:\u001b[39;00m\n\u001b[0;32m   (...)\u001b[0m\n\u001b[1;32m    377\u001b[0m \u001b[38;5;124;03m        `Chain.output_keys`.\u001b[39;00m\n\u001b[1;32m    378\u001b[0m \u001b[38;5;124;03m\"\"\"\u001b[39;00m\n\u001b[1;32m    379\u001b[0m config \u001b[38;5;241m=\u001b[39m {\n\u001b[1;32m    380\u001b[0m     \u001b[38;5;124m\"\u001b[39m\u001b[38;5;124mcallbacks\u001b[39m\u001b[38;5;124m\"\u001b[39m: callbacks,\n\u001b[1;32m    381\u001b[0m     \u001b[38;5;124m\"\u001b[39m\u001b[38;5;124mtags\u001b[39m\u001b[38;5;124m\"\u001b[39m: tags,\n\u001b[1;32m    382\u001b[0m     \u001b[38;5;124m\"\u001b[39m\u001b[38;5;124mmetadata\u001b[39m\u001b[38;5;124m\"\u001b[39m: metadata,\n\u001b[1;32m    383\u001b[0m     \u001b[38;5;124m\"\u001b[39m\u001b[38;5;124mrun_name\u001b[39m\u001b[38;5;124m\"\u001b[39m: run_name,\n\u001b[1;32m    384\u001b[0m }\n\u001b[0;32m--> 386\u001b[0m \u001b[38;5;28;01mreturn\u001b[39;00m \u001b[38;5;28;43mself\u001b[39;49m\u001b[38;5;241;43m.\u001b[39;49m\u001b[43minvoke\u001b[49m\u001b[43m(\u001b[49m\n\u001b[1;32m    387\u001b[0m \u001b[43m    \u001b[49m\u001b[43minputs\u001b[49m\u001b[43m,\u001b[49m\n\u001b[1;32m    388\u001b[0m \u001b[43m    \u001b[49m\u001b[43mcast\u001b[49m\u001b[43m(\u001b[49m\u001b[43mRunnableConfig\u001b[49m\u001b[43m,\u001b[49m\u001b[43m \u001b[49m\u001b[43m{\u001b[49m\u001b[43mk\u001b[49m\u001b[43m:\u001b[49m\u001b[43m \u001b[49m\u001b[43mv\u001b[49m\u001b[43m \u001b[49m\u001b[38;5;28;43;01mfor\u001b[39;49;00m\u001b[43m \u001b[49m\u001b[43mk\u001b[49m\u001b[43m,\u001b[49m\u001b[43m \u001b[49m\u001b[43mv\u001b[49m\u001b[43m \u001b[49m\u001b[38;5;129;43;01min\u001b[39;49;00m\u001b[43m \u001b[49m\u001b[43mconfig\u001b[49m\u001b[38;5;241;43m.\u001b[39;49m\u001b[43mitems\u001b[49m\u001b[43m(\u001b[49m\u001b[43m)\u001b[49m\u001b[43m \u001b[49m\u001b[38;5;28;43;01mif\u001b[39;49;00m\u001b[43m \u001b[49m\u001b[43mv\u001b[49m\u001b[43m \u001b[49m\u001b[38;5;129;43;01mis\u001b[39;49;00m\u001b[43m \u001b[49m\u001b[38;5;129;43;01mnot\u001b[39;49;00m\u001b[43m \u001b[49m\u001b[38;5;28;43;01mNone\u001b[39;49;00m\u001b[43m}\u001b[49m\u001b[43m)\u001b[49m\u001b[43m,\u001b[49m\n\u001b[1;32m    389\u001b[0m \u001b[43m    \u001b[49m\u001b[43mreturn_only_outputs\u001b[49m\u001b[38;5;241;43m=\u001b[39;49m\u001b[43mreturn_only_outputs\u001b[49m\u001b[43m,\u001b[49m\n\u001b[1;32m    390\u001b[0m \u001b[43m    \u001b[49m\u001b[43minclude_run_info\u001b[49m\u001b[38;5;241;43m=\u001b[39;49m\u001b[43minclude_run_info\u001b[49m\u001b[43m,\u001b[49m\n\u001b[1;32m    391\u001b[0m \u001b[43m\u001b[49m\u001b[43m)\u001b[49m\n",
      "File \u001b[0;32m~/anaconda3/envs/interview/lib/python3.10/site-packages/langchain/chains/base.py:167\u001b[0m, in \u001b[0;36mChain.invoke\u001b[0;34m(self, input, config, **kwargs)\u001b[0m\n\u001b[1;32m    165\u001b[0m \u001b[38;5;28;01mexcept\u001b[39;00m \u001b[38;5;167;01mBaseException\u001b[39;00m \u001b[38;5;28;01mas\u001b[39;00m e:\n\u001b[1;32m    166\u001b[0m     run_manager\u001b[38;5;241m.\u001b[39mon_chain_error(e)\n\u001b[0;32m--> 167\u001b[0m     \u001b[38;5;28;01mraise\u001b[39;00m e\n\u001b[1;32m    168\u001b[0m run_manager\u001b[38;5;241m.\u001b[39mon_chain_end(outputs)\n\u001b[1;32m    170\u001b[0m \u001b[38;5;28;01mif\u001b[39;00m include_run_info:\n",
      "File \u001b[0;32m~/anaconda3/envs/interview/lib/python3.10/site-packages/langchain/chains/base.py:157\u001b[0m, in \u001b[0;36mChain.invoke\u001b[0;34m(self, input, config, **kwargs)\u001b[0m\n\u001b[1;32m    154\u001b[0m \u001b[38;5;28;01mtry\u001b[39;00m:\n\u001b[1;32m    155\u001b[0m     \u001b[38;5;28mself\u001b[39m\u001b[38;5;241m.\u001b[39m_validate_inputs(inputs)\n\u001b[1;32m    156\u001b[0m     outputs \u001b[38;5;241m=\u001b[39m (\n\u001b[0;32m--> 157\u001b[0m         \u001b[38;5;28;43mself\u001b[39;49m\u001b[38;5;241;43m.\u001b[39;49m\u001b[43m_call\u001b[49m\u001b[43m(\u001b[49m\u001b[43minputs\u001b[49m\u001b[43m,\u001b[49m\u001b[43m \u001b[49m\u001b[43mrun_manager\u001b[49m\u001b[38;5;241;43m=\u001b[39;49m\u001b[43mrun_manager\u001b[49m\u001b[43m)\u001b[49m\n\u001b[1;32m    158\u001b[0m         \u001b[38;5;28;01mif\u001b[39;00m new_arg_supported\n\u001b[1;32m    159\u001b[0m         \u001b[38;5;28;01melse\u001b[39;00m \u001b[38;5;28mself\u001b[39m\u001b[38;5;241m.\u001b[39m_call(inputs)\n\u001b[1;32m    160\u001b[0m     )\n\u001b[1;32m    162\u001b[0m     final_outputs: \u001b[38;5;28mdict\u001b[39m[\u001b[38;5;28mstr\u001b[39m, Any] \u001b[38;5;241m=\u001b[39m \u001b[38;5;28mself\u001b[39m\u001b[38;5;241m.\u001b[39mprep_outputs(\n\u001b[1;32m    163\u001b[0m         inputs, outputs, return_only_outputs\n\u001b[1;32m    164\u001b[0m     )\n\u001b[1;32m    165\u001b[0m \u001b[38;5;28;01mexcept\u001b[39;00m \u001b[38;5;167;01mBaseException\u001b[39;00m \u001b[38;5;28;01mas\u001b[39;00m e:\n",
      "File \u001b[0;32m~/anaconda3/envs/interview/lib/python3.10/site-packages/langchain/chains/combine_documents/base.py:138\u001b[0m, in \u001b[0;36mBaseCombineDocumentsChain._call\u001b[0;34m(self, inputs, run_manager)\u001b[0m\n\u001b[1;32m    136\u001b[0m \u001b[38;5;66;03m# Other keys are assumed to be needed for LLM prediction\u001b[39;00m\n\u001b[1;32m    137\u001b[0m other_keys \u001b[38;5;241m=\u001b[39m {k: v \u001b[38;5;28;01mfor\u001b[39;00m k, v \u001b[38;5;129;01min\u001b[39;00m inputs\u001b[38;5;241m.\u001b[39mitems() \u001b[38;5;28;01mif\u001b[39;00m k \u001b[38;5;241m!=\u001b[39m \u001b[38;5;28mself\u001b[39m\u001b[38;5;241m.\u001b[39minput_key}\n\u001b[0;32m--> 138\u001b[0m output, extra_return_dict \u001b[38;5;241m=\u001b[39m \u001b[38;5;28;43mself\u001b[39;49m\u001b[38;5;241;43m.\u001b[39;49m\u001b[43mcombine_docs\u001b[49m\u001b[43m(\u001b[49m\n\u001b[1;32m    139\u001b[0m \u001b[43m    \u001b[49m\u001b[43mdocs\u001b[49m\u001b[43m,\u001b[49m\u001b[43m \u001b[49m\u001b[43mcallbacks\u001b[49m\u001b[38;5;241;43m=\u001b[39;49m\u001b[43m_run_manager\u001b[49m\u001b[38;5;241;43m.\u001b[39;49m\u001b[43mget_child\u001b[49m\u001b[43m(\u001b[49m\u001b[43m)\u001b[49m\u001b[43m,\u001b[49m\u001b[43m \u001b[49m\u001b[38;5;241;43m*\u001b[39;49m\u001b[38;5;241;43m*\u001b[39;49m\u001b[43mother_keys\u001b[49m\n\u001b[1;32m    140\u001b[0m \u001b[43m\u001b[49m\u001b[43m)\u001b[49m\n\u001b[1;32m    141\u001b[0m extra_return_dict[\u001b[38;5;28mself\u001b[39m\u001b[38;5;241m.\u001b[39moutput_key] \u001b[38;5;241m=\u001b[39m output\n\u001b[1;32m    142\u001b[0m \u001b[38;5;28;01mreturn\u001b[39;00m extra_return_dict\n",
      "File \u001b[0;32m~/anaconda3/envs/interview/lib/python3.10/site-packages/langchain/chains/combine_documents/stuff.py:259\u001b[0m, in \u001b[0;36mStuffDocumentsChain.combine_docs\u001b[0;34m(self, docs, callbacks, **kwargs)\u001b[0m\n\u001b[1;32m    257\u001b[0m inputs \u001b[38;5;241m=\u001b[39m \u001b[38;5;28mself\u001b[39m\u001b[38;5;241m.\u001b[39m_get_inputs(docs, \u001b[38;5;241m*\u001b[39m\u001b[38;5;241m*\u001b[39mkwargs)\n\u001b[1;32m    258\u001b[0m \u001b[38;5;66;03m# Call predict on the LLM.\u001b[39;00m\n\u001b[0;32m--> 259\u001b[0m \u001b[38;5;28;01mreturn\u001b[39;00m \u001b[38;5;28;43mself\u001b[39;49m\u001b[38;5;241;43m.\u001b[39;49m\u001b[43mllm_chain\u001b[49m\u001b[38;5;241;43m.\u001b[39;49m\u001b[43mpredict\u001b[49m\u001b[43m(\u001b[49m\u001b[43mcallbacks\u001b[49m\u001b[38;5;241;43m=\u001b[39;49m\u001b[43mcallbacks\u001b[49m\u001b[43m,\u001b[49m\u001b[43m \u001b[49m\u001b[38;5;241;43m*\u001b[39;49m\u001b[38;5;241;43m*\u001b[39;49m\u001b[43minputs\u001b[49m\u001b[43m)\u001b[49m, {}\n",
      "File \u001b[0;32m~/anaconda3/envs/interview/lib/python3.10/site-packages/langchain/chains/llm.py:319\u001b[0m, in \u001b[0;36mLLMChain.predict\u001b[0;34m(self, callbacks, **kwargs)\u001b[0m\n\u001b[1;32m    304\u001b[0m \u001b[38;5;28;01mdef\u001b[39;00m\u001b[38;5;250m \u001b[39m\u001b[38;5;21mpredict\u001b[39m(\u001b[38;5;28mself\u001b[39m, callbacks: Callbacks \u001b[38;5;241m=\u001b[39m \u001b[38;5;28;01mNone\u001b[39;00m, \u001b[38;5;241m*\u001b[39m\u001b[38;5;241m*\u001b[39mkwargs: Any) \u001b[38;5;241m-\u001b[39m\u001b[38;5;241m>\u001b[39m \u001b[38;5;28mstr\u001b[39m:\n\u001b[1;32m    305\u001b[0m \u001b[38;5;250m    \u001b[39m\u001b[38;5;124;03m\"\"\"Format prompt with kwargs and pass to LLM.\u001b[39;00m\n\u001b[1;32m    306\u001b[0m \n\u001b[1;32m    307\u001b[0m \u001b[38;5;124;03m    Args:\u001b[39;00m\n\u001b[0;32m   (...)\u001b[0m\n\u001b[1;32m    317\u001b[0m \u001b[38;5;124;03m            completion = llm.predict(adjective=\"funny\")\u001b[39;00m\n\u001b[1;32m    318\u001b[0m \u001b[38;5;124;03m    \"\"\"\u001b[39;00m\n\u001b[0;32m--> 319\u001b[0m     \u001b[38;5;28;01mreturn\u001b[39;00m \u001b[38;5;28;43mself\u001b[39;49m\u001b[43m(\u001b[49m\u001b[43mkwargs\u001b[49m\u001b[43m,\u001b[49m\u001b[43m \u001b[49m\u001b[43mcallbacks\u001b[49m\u001b[38;5;241;43m=\u001b[39;49m\u001b[43mcallbacks\u001b[49m\u001b[43m)\u001b[49m[\u001b[38;5;28mself\u001b[39m\u001b[38;5;241m.\u001b[39moutput_key]\n",
      "File \u001b[0;32m~/anaconda3/envs/interview/lib/python3.10/site-packages/langchain_core/_api/deprecation.py:191\u001b[0m, in \u001b[0;36mdeprecated.<locals>.deprecate.<locals>.warning_emitting_wrapper\u001b[0;34m(*args, **kwargs)\u001b[0m\n\u001b[1;32m    189\u001b[0m     warned \u001b[38;5;241m=\u001b[39m \u001b[38;5;28;01mTrue\u001b[39;00m\n\u001b[1;32m    190\u001b[0m     emit_warning()\n\u001b[0;32m--> 191\u001b[0m \u001b[38;5;28;01mreturn\u001b[39;00m \u001b[43mwrapped\u001b[49m\u001b[43m(\u001b[49m\u001b[38;5;241;43m*\u001b[39;49m\u001b[43margs\u001b[49m\u001b[43m,\u001b[49m\u001b[43m \u001b[49m\u001b[38;5;241;43m*\u001b[39;49m\u001b[38;5;241;43m*\u001b[39;49m\u001b[43mkwargs\u001b[49m\u001b[43m)\u001b[49m\n",
      "File \u001b[0;32m~/anaconda3/envs/interview/lib/python3.10/site-packages/langchain/chains/base.py:386\u001b[0m, in \u001b[0;36mChain.__call__\u001b[0;34m(self, inputs, return_only_outputs, callbacks, tags, metadata, run_name, include_run_info)\u001b[0m\n\u001b[1;32m    354\u001b[0m \u001b[38;5;250m\u001b[39m\u001b[38;5;124;03m\"\"\"Execute the chain.\u001b[39;00m\n\u001b[1;32m    355\u001b[0m \n\u001b[1;32m    356\u001b[0m \u001b[38;5;124;03mArgs:\u001b[39;00m\n\u001b[0;32m   (...)\u001b[0m\n\u001b[1;32m    377\u001b[0m \u001b[38;5;124;03m        `Chain.output_keys`.\u001b[39;00m\n\u001b[1;32m    378\u001b[0m \u001b[38;5;124;03m\"\"\"\u001b[39;00m\n\u001b[1;32m    379\u001b[0m config \u001b[38;5;241m=\u001b[39m {\n\u001b[1;32m    380\u001b[0m     \u001b[38;5;124m\"\u001b[39m\u001b[38;5;124mcallbacks\u001b[39m\u001b[38;5;124m\"\u001b[39m: callbacks,\n\u001b[1;32m    381\u001b[0m     \u001b[38;5;124m\"\u001b[39m\u001b[38;5;124mtags\u001b[39m\u001b[38;5;124m\"\u001b[39m: tags,\n\u001b[1;32m    382\u001b[0m     \u001b[38;5;124m\"\u001b[39m\u001b[38;5;124mmetadata\u001b[39m\u001b[38;5;124m\"\u001b[39m: metadata,\n\u001b[1;32m    383\u001b[0m     \u001b[38;5;124m\"\u001b[39m\u001b[38;5;124mrun_name\u001b[39m\u001b[38;5;124m\"\u001b[39m: run_name,\n\u001b[1;32m    384\u001b[0m }\n\u001b[0;32m--> 386\u001b[0m \u001b[38;5;28;01mreturn\u001b[39;00m \u001b[38;5;28;43mself\u001b[39;49m\u001b[38;5;241;43m.\u001b[39;49m\u001b[43minvoke\u001b[49m\u001b[43m(\u001b[49m\n\u001b[1;32m    387\u001b[0m \u001b[43m    \u001b[49m\u001b[43minputs\u001b[49m\u001b[43m,\u001b[49m\n\u001b[1;32m    388\u001b[0m \u001b[43m    \u001b[49m\u001b[43mcast\u001b[49m\u001b[43m(\u001b[49m\u001b[43mRunnableConfig\u001b[49m\u001b[43m,\u001b[49m\u001b[43m \u001b[49m\u001b[43m{\u001b[49m\u001b[43mk\u001b[49m\u001b[43m:\u001b[49m\u001b[43m \u001b[49m\u001b[43mv\u001b[49m\u001b[43m \u001b[49m\u001b[38;5;28;43;01mfor\u001b[39;49;00m\u001b[43m \u001b[49m\u001b[43mk\u001b[49m\u001b[43m,\u001b[49m\u001b[43m \u001b[49m\u001b[43mv\u001b[49m\u001b[43m \u001b[49m\u001b[38;5;129;43;01min\u001b[39;49;00m\u001b[43m \u001b[49m\u001b[43mconfig\u001b[49m\u001b[38;5;241;43m.\u001b[39;49m\u001b[43mitems\u001b[49m\u001b[43m(\u001b[49m\u001b[43m)\u001b[49m\u001b[43m \u001b[49m\u001b[38;5;28;43;01mif\u001b[39;49;00m\u001b[43m \u001b[49m\u001b[43mv\u001b[49m\u001b[43m \u001b[49m\u001b[38;5;129;43;01mis\u001b[39;49;00m\u001b[43m \u001b[49m\u001b[38;5;129;43;01mnot\u001b[39;49;00m\u001b[43m \u001b[49m\u001b[38;5;28;43;01mNone\u001b[39;49;00m\u001b[43m}\u001b[49m\u001b[43m)\u001b[49m\u001b[43m,\u001b[49m\n\u001b[1;32m    389\u001b[0m \u001b[43m    \u001b[49m\u001b[43mreturn_only_outputs\u001b[49m\u001b[38;5;241;43m=\u001b[39;49m\u001b[43mreturn_only_outputs\u001b[49m\u001b[43m,\u001b[49m\n\u001b[1;32m    390\u001b[0m \u001b[43m    \u001b[49m\u001b[43minclude_run_info\u001b[49m\u001b[38;5;241;43m=\u001b[39;49m\u001b[43minclude_run_info\u001b[49m\u001b[43m,\u001b[49m\n\u001b[1;32m    391\u001b[0m \u001b[43m\u001b[49m\u001b[43m)\u001b[49m\n",
      "File \u001b[0;32m~/anaconda3/envs/interview/lib/python3.10/site-packages/langchain/chains/base.py:167\u001b[0m, in \u001b[0;36mChain.invoke\u001b[0;34m(self, input, config, **kwargs)\u001b[0m\n\u001b[1;32m    165\u001b[0m \u001b[38;5;28;01mexcept\u001b[39;00m \u001b[38;5;167;01mBaseException\u001b[39;00m \u001b[38;5;28;01mas\u001b[39;00m e:\n\u001b[1;32m    166\u001b[0m     run_manager\u001b[38;5;241m.\u001b[39mon_chain_error(e)\n\u001b[0;32m--> 167\u001b[0m     \u001b[38;5;28;01mraise\u001b[39;00m e\n\u001b[1;32m    168\u001b[0m run_manager\u001b[38;5;241m.\u001b[39mon_chain_end(outputs)\n\u001b[1;32m    170\u001b[0m \u001b[38;5;28;01mif\u001b[39;00m include_run_info:\n",
      "File \u001b[0;32m~/anaconda3/envs/interview/lib/python3.10/site-packages/langchain/chains/base.py:157\u001b[0m, in \u001b[0;36mChain.invoke\u001b[0;34m(self, input, config, **kwargs)\u001b[0m\n\u001b[1;32m    154\u001b[0m \u001b[38;5;28;01mtry\u001b[39;00m:\n\u001b[1;32m    155\u001b[0m     \u001b[38;5;28mself\u001b[39m\u001b[38;5;241m.\u001b[39m_validate_inputs(inputs)\n\u001b[1;32m    156\u001b[0m     outputs \u001b[38;5;241m=\u001b[39m (\n\u001b[0;32m--> 157\u001b[0m         \u001b[38;5;28;43mself\u001b[39;49m\u001b[38;5;241;43m.\u001b[39;49m\u001b[43m_call\u001b[49m\u001b[43m(\u001b[49m\u001b[43minputs\u001b[49m\u001b[43m,\u001b[49m\u001b[43m \u001b[49m\u001b[43mrun_manager\u001b[49m\u001b[38;5;241;43m=\u001b[39;49m\u001b[43mrun_manager\u001b[49m\u001b[43m)\u001b[49m\n\u001b[1;32m    158\u001b[0m         \u001b[38;5;28;01mif\u001b[39;00m new_arg_supported\n\u001b[1;32m    159\u001b[0m         \u001b[38;5;28;01melse\u001b[39;00m \u001b[38;5;28mself\u001b[39m\u001b[38;5;241m.\u001b[39m_call(inputs)\n\u001b[1;32m    160\u001b[0m     )\n\u001b[1;32m    162\u001b[0m     final_outputs: \u001b[38;5;28mdict\u001b[39m[\u001b[38;5;28mstr\u001b[39m, Any] \u001b[38;5;241m=\u001b[39m \u001b[38;5;28mself\u001b[39m\u001b[38;5;241m.\u001b[39mprep_outputs(\n\u001b[1;32m    163\u001b[0m         inputs, outputs, return_only_outputs\n\u001b[1;32m    164\u001b[0m     )\n\u001b[1;32m    165\u001b[0m \u001b[38;5;28;01mexcept\u001b[39;00m \u001b[38;5;167;01mBaseException\u001b[39;00m \u001b[38;5;28;01mas\u001b[39;00m e:\n",
      "File \u001b[0;32m~/anaconda3/envs/interview/lib/python3.10/site-packages/langchain/chains/llm.py:127\u001b[0m, in \u001b[0;36mLLMChain._call\u001b[0;34m(self, inputs, run_manager)\u001b[0m\n\u001b[1;32m    122\u001b[0m \u001b[38;5;28;01mdef\u001b[39;00m\u001b[38;5;250m \u001b[39m\u001b[38;5;21m_call\u001b[39m(\n\u001b[1;32m    123\u001b[0m     \u001b[38;5;28mself\u001b[39m,\n\u001b[1;32m    124\u001b[0m     inputs: \u001b[38;5;28mdict\u001b[39m[\u001b[38;5;28mstr\u001b[39m, Any],\n\u001b[1;32m    125\u001b[0m     run_manager: Optional[CallbackManagerForChainRun] \u001b[38;5;241m=\u001b[39m \u001b[38;5;28;01mNone\u001b[39;00m,\n\u001b[1;32m    126\u001b[0m ) \u001b[38;5;241m-\u001b[39m\u001b[38;5;241m>\u001b[39m \u001b[38;5;28mdict\u001b[39m[\u001b[38;5;28mstr\u001b[39m, \u001b[38;5;28mstr\u001b[39m]:\n\u001b[0;32m--> 127\u001b[0m     response \u001b[38;5;241m=\u001b[39m \u001b[38;5;28;43mself\u001b[39;49m\u001b[38;5;241;43m.\u001b[39;49m\u001b[43mgenerate\u001b[49m\u001b[43m(\u001b[49m\u001b[43m[\u001b[49m\u001b[43minputs\u001b[49m\u001b[43m]\u001b[49m\u001b[43m,\u001b[49m\u001b[43m \u001b[49m\u001b[43mrun_manager\u001b[49m\u001b[38;5;241;43m=\u001b[39;49m\u001b[43mrun_manager\u001b[49m\u001b[43m)\u001b[49m\n\u001b[1;32m    128\u001b[0m     \u001b[38;5;28;01mreturn\u001b[39;00m \u001b[38;5;28mself\u001b[39m\u001b[38;5;241m.\u001b[39mcreate_outputs(response)[\u001b[38;5;241m0\u001b[39m]\n",
      "File \u001b[0;32m~/anaconda3/envs/interview/lib/python3.10/site-packages/langchain/chains/llm.py:139\u001b[0m, in \u001b[0;36mLLMChain.generate\u001b[0;34m(self, input_list, run_manager)\u001b[0m\n\u001b[1;32m    137\u001b[0m callbacks \u001b[38;5;241m=\u001b[39m run_manager\u001b[38;5;241m.\u001b[39mget_child() \u001b[38;5;28;01mif\u001b[39;00m run_manager \u001b[38;5;28;01melse\u001b[39;00m \u001b[38;5;28;01mNone\u001b[39;00m\n\u001b[1;32m    138\u001b[0m \u001b[38;5;28;01mif\u001b[39;00m \u001b[38;5;28misinstance\u001b[39m(\u001b[38;5;28mself\u001b[39m\u001b[38;5;241m.\u001b[39mllm, BaseLanguageModel):\n\u001b[0;32m--> 139\u001b[0m     \u001b[38;5;28;01mreturn\u001b[39;00m \u001b[38;5;28;43mself\u001b[39;49m\u001b[38;5;241;43m.\u001b[39;49m\u001b[43mllm\u001b[49m\u001b[38;5;241;43m.\u001b[39;49m\u001b[43mgenerate_prompt\u001b[49m\u001b[43m(\u001b[49m\n\u001b[1;32m    140\u001b[0m \u001b[43m        \u001b[49m\u001b[43mprompts\u001b[49m\u001b[43m,\u001b[49m\n\u001b[1;32m    141\u001b[0m \u001b[43m        \u001b[49m\u001b[43mstop\u001b[49m\u001b[43m,\u001b[49m\n\u001b[1;32m    142\u001b[0m \u001b[43m        \u001b[49m\u001b[43mcallbacks\u001b[49m\u001b[38;5;241;43m=\u001b[39;49m\u001b[43mcallbacks\u001b[49m\u001b[43m,\u001b[49m\n\u001b[1;32m    143\u001b[0m \u001b[43m        \u001b[49m\u001b[38;5;241;43m*\u001b[39;49m\u001b[38;5;241;43m*\u001b[39;49m\u001b[38;5;28;43mself\u001b[39;49m\u001b[38;5;241;43m.\u001b[39;49m\u001b[43mllm_kwargs\u001b[49m\u001b[43m,\u001b[49m\n\u001b[1;32m    144\u001b[0m \u001b[43m    \u001b[49m\u001b[43m)\u001b[49m\n\u001b[1;32m    145\u001b[0m \u001b[38;5;28;01melse\u001b[39;00m:\n\u001b[1;32m    146\u001b[0m     results \u001b[38;5;241m=\u001b[39m \u001b[38;5;28mself\u001b[39m\u001b[38;5;241m.\u001b[39mllm\u001b[38;5;241m.\u001b[39mbind(stop\u001b[38;5;241m=\u001b[39mstop, \u001b[38;5;241m*\u001b[39m\u001b[38;5;241m*\u001b[39m\u001b[38;5;28mself\u001b[39m\u001b[38;5;241m.\u001b[39mllm_kwargs)\u001b[38;5;241m.\u001b[39mbatch(\n\u001b[1;32m    147\u001b[0m         cast(\u001b[38;5;28mlist\u001b[39m, prompts), {\u001b[38;5;124m\"\u001b[39m\u001b[38;5;124mcallbacks\u001b[39m\u001b[38;5;124m\"\u001b[39m: callbacks}\n\u001b[1;32m    148\u001b[0m     )\n",
      "File \u001b[0;32m~/anaconda3/envs/interview/lib/python3.10/site-packages/langchain_core/language_models/chat_models.py:947\u001b[0m, in \u001b[0;36mBaseChatModel.generate_prompt\u001b[0;34m(self, prompts, stop, callbacks, **kwargs)\u001b[0m\n\u001b[1;32m    938\u001b[0m \u001b[38;5;129m@override\u001b[39m\n\u001b[1;32m    939\u001b[0m \u001b[38;5;28;01mdef\u001b[39;00m\u001b[38;5;250m \u001b[39m\u001b[38;5;21mgenerate_prompt\u001b[39m(\n\u001b[1;32m    940\u001b[0m     \u001b[38;5;28mself\u001b[39m,\n\u001b[0;32m   (...)\u001b[0m\n\u001b[1;32m    944\u001b[0m     \u001b[38;5;241m*\u001b[39m\u001b[38;5;241m*\u001b[39mkwargs: Any,\n\u001b[1;32m    945\u001b[0m ) \u001b[38;5;241m-\u001b[39m\u001b[38;5;241m>\u001b[39m LLMResult:\n\u001b[1;32m    946\u001b[0m     prompt_messages \u001b[38;5;241m=\u001b[39m [p\u001b[38;5;241m.\u001b[39mto_messages() \u001b[38;5;28;01mfor\u001b[39;00m p \u001b[38;5;129;01min\u001b[39;00m prompts]\n\u001b[0;32m--> 947\u001b[0m     \u001b[38;5;28;01mreturn\u001b[39;00m \u001b[38;5;28;43mself\u001b[39;49m\u001b[38;5;241;43m.\u001b[39;49m\u001b[43mgenerate\u001b[49m\u001b[43m(\u001b[49m\u001b[43mprompt_messages\u001b[49m\u001b[43m,\u001b[49m\u001b[43m \u001b[49m\u001b[43mstop\u001b[49m\u001b[38;5;241;43m=\u001b[39;49m\u001b[43mstop\u001b[49m\u001b[43m,\u001b[49m\u001b[43m \u001b[49m\u001b[43mcallbacks\u001b[49m\u001b[38;5;241;43m=\u001b[39;49m\u001b[43mcallbacks\u001b[49m\u001b[43m,\u001b[49m\u001b[43m \u001b[49m\u001b[38;5;241;43m*\u001b[39;49m\u001b[38;5;241;43m*\u001b[39;49m\u001b[43mkwargs\u001b[49m\u001b[43m)\u001b[49m\n",
      "File \u001b[0;32m~/anaconda3/envs/interview/lib/python3.10/site-packages/langchain_core/language_models/chat_models.py:766\u001b[0m, in \u001b[0;36mBaseChatModel.generate\u001b[0;34m(self, messages, stop, callbacks, tags, metadata, run_name, run_id, **kwargs)\u001b[0m\n\u001b[1;32m    763\u001b[0m \u001b[38;5;28;01mfor\u001b[39;00m i, m \u001b[38;5;129;01min\u001b[39;00m \u001b[38;5;28menumerate\u001b[39m(input_messages):\n\u001b[1;32m    764\u001b[0m     \u001b[38;5;28;01mtry\u001b[39;00m:\n\u001b[1;32m    765\u001b[0m         results\u001b[38;5;241m.\u001b[39mappend(\n\u001b[0;32m--> 766\u001b[0m             \u001b[38;5;28;43mself\u001b[39;49m\u001b[38;5;241;43m.\u001b[39;49m\u001b[43m_generate_with_cache\u001b[49m\u001b[43m(\u001b[49m\n\u001b[1;32m    767\u001b[0m \u001b[43m                \u001b[49m\u001b[43mm\u001b[49m\u001b[43m,\u001b[49m\n\u001b[1;32m    768\u001b[0m \u001b[43m                \u001b[49m\u001b[43mstop\u001b[49m\u001b[38;5;241;43m=\u001b[39;49m\u001b[43mstop\u001b[49m\u001b[43m,\u001b[49m\n\u001b[1;32m    769\u001b[0m \u001b[43m                \u001b[49m\u001b[43mrun_manager\u001b[49m\u001b[38;5;241;43m=\u001b[39;49m\u001b[43mrun_managers\u001b[49m\u001b[43m[\u001b[49m\u001b[43mi\u001b[49m\u001b[43m]\u001b[49m\u001b[43m \u001b[49m\u001b[38;5;28;43;01mif\u001b[39;49;00m\u001b[43m \u001b[49m\u001b[43mrun_managers\u001b[49m\u001b[43m \u001b[49m\u001b[38;5;28;43;01melse\u001b[39;49;00m\u001b[43m \u001b[49m\u001b[38;5;28;43;01mNone\u001b[39;49;00m\u001b[43m,\u001b[49m\n\u001b[1;32m    770\u001b[0m \u001b[43m                \u001b[49m\u001b[38;5;241;43m*\u001b[39;49m\u001b[38;5;241;43m*\u001b[39;49m\u001b[43mkwargs\u001b[49m\u001b[43m,\u001b[49m\n\u001b[1;32m    771\u001b[0m \u001b[43m            \u001b[49m\u001b[43m)\u001b[49m\n\u001b[1;32m    772\u001b[0m         )\n\u001b[1;32m    773\u001b[0m     \u001b[38;5;28;01mexcept\u001b[39;00m \u001b[38;5;167;01mBaseException\u001b[39;00m \u001b[38;5;28;01mas\u001b[39;00m e:\n\u001b[1;32m    774\u001b[0m         \u001b[38;5;28;01mif\u001b[39;00m run_managers:\n",
      "File \u001b[0;32m~/anaconda3/envs/interview/lib/python3.10/site-packages/langchain_core/language_models/chat_models.py:1012\u001b[0m, in \u001b[0;36mBaseChatModel._generate_with_cache\u001b[0;34m(self, messages, stop, run_manager, **kwargs)\u001b[0m\n\u001b[1;32m   1010\u001b[0m     result \u001b[38;5;241m=\u001b[39m generate_from_stream(\u001b[38;5;28miter\u001b[39m(chunks))\n\u001b[1;32m   1011\u001b[0m \u001b[38;5;28;01melif\u001b[39;00m inspect\u001b[38;5;241m.\u001b[39msignature(\u001b[38;5;28mself\u001b[39m\u001b[38;5;241m.\u001b[39m_generate)\u001b[38;5;241m.\u001b[39mparameters\u001b[38;5;241m.\u001b[39mget(\u001b[38;5;124m\"\u001b[39m\u001b[38;5;124mrun_manager\u001b[39m\u001b[38;5;124m\"\u001b[39m):\n\u001b[0;32m-> 1012\u001b[0m     result \u001b[38;5;241m=\u001b[39m \u001b[38;5;28;43mself\u001b[39;49m\u001b[38;5;241;43m.\u001b[39;49m\u001b[43m_generate\u001b[49m\u001b[43m(\u001b[49m\n\u001b[1;32m   1013\u001b[0m \u001b[43m        \u001b[49m\u001b[43mmessages\u001b[49m\u001b[43m,\u001b[49m\u001b[43m \u001b[49m\u001b[43mstop\u001b[49m\u001b[38;5;241;43m=\u001b[39;49m\u001b[43mstop\u001b[49m\u001b[43m,\u001b[49m\u001b[43m \u001b[49m\u001b[43mrun_manager\u001b[49m\u001b[38;5;241;43m=\u001b[39;49m\u001b[43mrun_manager\u001b[49m\u001b[43m,\u001b[49m\u001b[43m \u001b[49m\u001b[38;5;241;43m*\u001b[39;49m\u001b[38;5;241;43m*\u001b[39;49m\u001b[43mkwargs\u001b[49m\n\u001b[1;32m   1014\u001b[0m \u001b[43m    \u001b[49m\u001b[43m)\u001b[49m\n\u001b[1;32m   1015\u001b[0m \u001b[38;5;28;01melse\u001b[39;00m:\n\u001b[1;32m   1016\u001b[0m     result \u001b[38;5;241m=\u001b[39m \u001b[38;5;28mself\u001b[39m\u001b[38;5;241m.\u001b[39m_generate(messages, stop\u001b[38;5;241m=\u001b[39mstop, \u001b[38;5;241m*\u001b[39m\u001b[38;5;241m*\u001b[39mkwargs)\n",
      "File \u001b[0;32m~/anaconda3/envs/interview/lib/python3.10/site-packages/langchain_groq/chat_models.py:498\u001b[0m, in \u001b[0;36mChatGroq._generate\u001b[0;34m(self, messages, stop, run_manager, **kwargs)\u001b[0m\n\u001b[1;32m    493\u001b[0m message_dicts, params \u001b[38;5;241m=\u001b[39m \u001b[38;5;28mself\u001b[39m\u001b[38;5;241m.\u001b[39m_create_message_dicts(messages, stop)\n\u001b[1;32m    494\u001b[0m params \u001b[38;5;241m=\u001b[39m {\n\u001b[1;32m    495\u001b[0m     \u001b[38;5;241m*\u001b[39m\u001b[38;5;241m*\u001b[39mparams,\n\u001b[1;32m    496\u001b[0m     \u001b[38;5;241m*\u001b[39m\u001b[38;5;241m*\u001b[39mkwargs,\n\u001b[1;32m    497\u001b[0m }\n\u001b[0;32m--> 498\u001b[0m response \u001b[38;5;241m=\u001b[39m \u001b[38;5;28;43mself\u001b[39;49m\u001b[38;5;241;43m.\u001b[39;49m\u001b[43mclient\u001b[49m\u001b[38;5;241;43m.\u001b[39;49m\u001b[43mcreate\u001b[49m\u001b[43m(\u001b[49m\u001b[43mmessages\u001b[49m\u001b[38;5;241;43m=\u001b[39;49m\u001b[43mmessage_dicts\u001b[49m\u001b[43m,\u001b[49m\u001b[43m \u001b[49m\u001b[38;5;241;43m*\u001b[39;49m\u001b[38;5;241;43m*\u001b[39;49m\u001b[43mparams\u001b[49m\u001b[43m)\u001b[49m\n\u001b[1;32m    499\u001b[0m \u001b[38;5;28;01mreturn\u001b[39;00m \u001b[38;5;28mself\u001b[39m\u001b[38;5;241m.\u001b[39m_create_chat_result(response)\n",
      "File \u001b[0;32m~/anaconda3/envs/interview/lib/python3.10/site-packages/groq/resources/chat/completions.py:355\u001b[0m, in \u001b[0;36mCompletions.create\u001b[0;34m(self, messages, model, exclude_domains, frequency_penalty, function_call, functions, include_domains, logit_bias, logprobs, max_completion_tokens, max_tokens, metadata, n, parallel_tool_calls, presence_penalty, reasoning_format, response_format, seed, service_tier, stop, store, stream, temperature, tool_choice, tools, top_logprobs, top_p, user, extra_headers, extra_query, extra_body, timeout)\u001b[0m\n\u001b[1;32m    175\u001b[0m \u001b[38;5;28;01mdef\u001b[39;00m\u001b[38;5;250m \u001b[39m\u001b[38;5;21mcreate\u001b[39m(\n\u001b[1;32m    176\u001b[0m     \u001b[38;5;28mself\u001b[39m,\n\u001b[1;32m    177\u001b[0m     \u001b[38;5;241m*\u001b[39m,\n\u001b[0;32m   (...)\u001b[0m\n\u001b[1;32m    221\u001b[0m     timeout: \u001b[38;5;28mfloat\u001b[39m \u001b[38;5;241m|\u001b[39m httpx\u001b[38;5;241m.\u001b[39mTimeout \u001b[38;5;241m|\u001b[39m \u001b[38;5;28;01mNone\u001b[39;00m \u001b[38;5;241m|\u001b[39m NotGiven \u001b[38;5;241m=\u001b[39m NOT_GIVEN,\n\u001b[1;32m    222\u001b[0m ) \u001b[38;5;241m-\u001b[39m\u001b[38;5;241m>\u001b[39m ChatCompletion \u001b[38;5;241m|\u001b[39m Stream[ChatCompletionChunk]:\n\u001b[1;32m    223\u001b[0m \u001b[38;5;250m    \u001b[39m\u001b[38;5;124;03m\"\"\"\u001b[39;00m\n\u001b[1;32m    224\u001b[0m \u001b[38;5;124;03m    Creates a model response for the given chat conversation.\u001b[39;00m\n\u001b[1;32m    225\u001b[0m \n\u001b[0;32m   (...)\u001b[0m\n\u001b[1;32m    353\u001b[0m \u001b[38;5;124;03m      timeout: Override the client-level default timeout for this request, in seconds\u001b[39;00m\n\u001b[1;32m    354\u001b[0m \u001b[38;5;124;03m    \"\"\"\u001b[39;00m\n\u001b[0;32m--> 355\u001b[0m     \u001b[38;5;28;01mreturn\u001b[39;00m \u001b[38;5;28;43mself\u001b[39;49m\u001b[38;5;241;43m.\u001b[39;49m\u001b[43m_post\u001b[49m\u001b[43m(\u001b[49m\n\u001b[1;32m    356\u001b[0m \u001b[43m        \u001b[49m\u001b[38;5;124;43m\"\u001b[39;49m\u001b[38;5;124;43m/openai/v1/chat/completions\u001b[39;49m\u001b[38;5;124;43m\"\u001b[39;49m\u001b[43m,\u001b[49m\n\u001b[1;32m    357\u001b[0m \u001b[43m        \u001b[49m\u001b[43mbody\u001b[49m\u001b[38;5;241;43m=\u001b[39;49m\u001b[43mmaybe_transform\u001b[49m\u001b[43m(\u001b[49m\n\u001b[1;32m    358\u001b[0m \u001b[43m            \u001b[49m\u001b[43m{\u001b[49m\n\u001b[1;32m    359\u001b[0m \u001b[43m                \u001b[49m\u001b[38;5;124;43m\"\u001b[39;49m\u001b[38;5;124;43mmessages\u001b[39;49m\u001b[38;5;124;43m\"\u001b[39;49m\u001b[43m:\u001b[49m\u001b[43m \u001b[49m\u001b[43mmessages\u001b[49m\u001b[43m,\u001b[49m\n\u001b[1;32m    360\u001b[0m \u001b[43m                \u001b[49m\u001b[38;5;124;43m\"\u001b[39;49m\u001b[38;5;124;43mmodel\u001b[39;49m\u001b[38;5;124;43m\"\u001b[39;49m\u001b[43m:\u001b[49m\u001b[43m \u001b[49m\u001b[43mmodel\u001b[49m\u001b[43m,\u001b[49m\n\u001b[1;32m    361\u001b[0m \u001b[43m                \u001b[49m\u001b[38;5;124;43m\"\u001b[39;49m\u001b[38;5;124;43mexclude_domains\u001b[39;49m\u001b[38;5;124;43m\"\u001b[39;49m\u001b[43m:\u001b[49m\u001b[43m \u001b[49m\u001b[43mexclude_domains\u001b[49m\u001b[43m,\u001b[49m\n\u001b[1;32m    362\u001b[0m \u001b[43m                \u001b[49m\u001b[38;5;124;43m\"\u001b[39;49m\u001b[38;5;124;43mfrequency_penalty\u001b[39;49m\u001b[38;5;124;43m\"\u001b[39;49m\u001b[43m:\u001b[49m\u001b[43m \u001b[49m\u001b[43mfrequency_penalty\u001b[49m\u001b[43m,\u001b[49m\n\u001b[1;32m    363\u001b[0m \u001b[43m                \u001b[49m\u001b[38;5;124;43m\"\u001b[39;49m\u001b[38;5;124;43mfunction_call\u001b[39;49m\u001b[38;5;124;43m\"\u001b[39;49m\u001b[43m:\u001b[49m\u001b[43m \u001b[49m\u001b[43mfunction_call\u001b[49m\u001b[43m,\u001b[49m\n\u001b[1;32m    364\u001b[0m \u001b[43m                \u001b[49m\u001b[38;5;124;43m\"\u001b[39;49m\u001b[38;5;124;43mfunctions\u001b[39;49m\u001b[38;5;124;43m\"\u001b[39;49m\u001b[43m:\u001b[49m\u001b[43m \u001b[49m\u001b[43mfunctions\u001b[49m\u001b[43m,\u001b[49m\n\u001b[1;32m    365\u001b[0m \u001b[43m                \u001b[49m\u001b[38;5;124;43m\"\u001b[39;49m\u001b[38;5;124;43minclude_domains\u001b[39;49m\u001b[38;5;124;43m\"\u001b[39;49m\u001b[43m:\u001b[49m\u001b[43m \u001b[49m\u001b[43minclude_domains\u001b[49m\u001b[43m,\u001b[49m\n\u001b[1;32m    366\u001b[0m \u001b[43m                \u001b[49m\u001b[38;5;124;43m\"\u001b[39;49m\u001b[38;5;124;43mlogit_bias\u001b[39;49m\u001b[38;5;124;43m\"\u001b[39;49m\u001b[43m:\u001b[49m\u001b[43m \u001b[49m\u001b[43mlogit_bias\u001b[49m\u001b[43m,\u001b[49m\n\u001b[1;32m    367\u001b[0m \u001b[43m                \u001b[49m\u001b[38;5;124;43m\"\u001b[39;49m\u001b[38;5;124;43mlogprobs\u001b[39;49m\u001b[38;5;124;43m\"\u001b[39;49m\u001b[43m:\u001b[49m\u001b[43m \u001b[49m\u001b[43mlogprobs\u001b[49m\u001b[43m,\u001b[49m\n\u001b[1;32m    368\u001b[0m \u001b[43m                \u001b[49m\u001b[38;5;124;43m\"\u001b[39;49m\u001b[38;5;124;43mmax_completion_tokens\u001b[39;49m\u001b[38;5;124;43m\"\u001b[39;49m\u001b[43m:\u001b[49m\u001b[43m \u001b[49m\u001b[43mmax_completion_tokens\u001b[49m\u001b[43m,\u001b[49m\n\u001b[1;32m    369\u001b[0m \u001b[43m                \u001b[49m\u001b[38;5;124;43m\"\u001b[39;49m\u001b[38;5;124;43mmax_tokens\u001b[39;49m\u001b[38;5;124;43m\"\u001b[39;49m\u001b[43m:\u001b[49m\u001b[43m \u001b[49m\u001b[43mmax_tokens\u001b[49m\u001b[43m,\u001b[49m\n\u001b[1;32m    370\u001b[0m \u001b[43m                \u001b[49m\u001b[38;5;124;43m\"\u001b[39;49m\u001b[38;5;124;43mmetadata\u001b[39;49m\u001b[38;5;124;43m\"\u001b[39;49m\u001b[43m:\u001b[49m\u001b[43m \u001b[49m\u001b[43mmetadata\u001b[49m\u001b[43m,\u001b[49m\n\u001b[1;32m    371\u001b[0m \u001b[43m                \u001b[49m\u001b[38;5;124;43m\"\u001b[39;49m\u001b[38;5;124;43mn\u001b[39;49m\u001b[38;5;124;43m\"\u001b[39;49m\u001b[43m:\u001b[49m\u001b[43m \u001b[49m\u001b[43mn\u001b[49m\u001b[43m,\u001b[49m\n\u001b[1;32m    372\u001b[0m \u001b[43m                \u001b[49m\u001b[38;5;124;43m\"\u001b[39;49m\u001b[38;5;124;43mparallel_tool_calls\u001b[39;49m\u001b[38;5;124;43m\"\u001b[39;49m\u001b[43m:\u001b[49m\u001b[43m \u001b[49m\u001b[43mparallel_tool_calls\u001b[49m\u001b[43m,\u001b[49m\n\u001b[1;32m    373\u001b[0m \u001b[43m                \u001b[49m\u001b[38;5;124;43m\"\u001b[39;49m\u001b[38;5;124;43mpresence_penalty\u001b[39;49m\u001b[38;5;124;43m\"\u001b[39;49m\u001b[43m:\u001b[49m\u001b[43m \u001b[49m\u001b[43mpresence_penalty\u001b[49m\u001b[43m,\u001b[49m\n\u001b[1;32m    374\u001b[0m \u001b[43m                \u001b[49m\u001b[38;5;124;43m\"\u001b[39;49m\u001b[38;5;124;43mreasoning_format\u001b[39;49m\u001b[38;5;124;43m\"\u001b[39;49m\u001b[43m:\u001b[49m\u001b[43m \u001b[49m\u001b[43mreasoning_format\u001b[49m\u001b[43m,\u001b[49m\n\u001b[1;32m    375\u001b[0m \u001b[43m                \u001b[49m\u001b[38;5;124;43m\"\u001b[39;49m\u001b[38;5;124;43mresponse_format\u001b[39;49m\u001b[38;5;124;43m\"\u001b[39;49m\u001b[43m:\u001b[49m\u001b[43m \u001b[49m\u001b[43mresponse_format\u001b[49m\u001b[43m,\u001b[49m\n\u001b[1;32m    376\u001b[0m \u001b[43m                \u001b[49m\u001b[38;5;124;43m\"\u001b[39;49m\u001b[38;5;124;43mseed\u001b[39;49m\u001b[38;5;124;43m\"\u001b[39;49m\u001b[43m:\u001b[49m\u001b[43m \u001b[49m\u001b[43mseed\u001b[49m\u001b[43m,\u001b[49m\n\u001b[1;32m    377\u001b[0m \u001b[43m                \u001b[49m\u001b[38;5;124;43m\"\u001b[39;49m\u001b[38;5;124;43mservice_tier\u001b[39;49m\u001b[38;5;124;43m\"\u001b[39;49m\u001b[43m:\u001b[49m\u001b[43m \u001b[49m\u001b[43mservice_tier\u001b[49m\u001b[43m,\u001b[49m\n\u001b[1;32m    378\u001b[0m \u001b[43m                \u001b[49m\u001b[38;5;124;43m\"\u001b[39;49m\u001b[38;5;124;43mstop\u001b[39;49m\u001b[38;5;124;43m\"\u001b[39;49m\u001b[43m:\u001b[49m\u001b[43m \u001b[49m\u001b[43mstop\u001b[49m\u001b[43m,\u001b[49m\n\u001b[1;32m    379\u001b[0m \u001b[43m                \u001b[49m\u001b[38;5;124;43m\"\u001b[39;49m\u001b[38;5;124;43mstore\u001b[39;49m\u001b[38;5;124;43m\"\u001b[39;49m\u001b[43m:\u001b[49m\u001b[43m \u001b[49m\u001b[43mstore\u001b[49m\u001b[43m,\u001b[49m\n\u001b[1;32m    380\u001b[0m \u001b[43m                \u001b[49m\u001b[38;5;124;43m\"\u001b[39;49m\u001b[38;5;124;43mstream\u001b[39;49m\u001b[38;5;124;43m\"\u001b[39;49m\u001b[43m:\u001b[49m\u001b[43m \u001b[49m\u001b[43mstream\u001b[49m\u001b[43m,\u001b[49m\n\u001b[1;32m    381\u001b[0m \u001b[43m                \u001b[49m\u001b[38;5;124;43m\"\u001b[39;49m\u001b[38;5;124;43mtemperature\u001b[39;49m\u001b[38;5;124;43m\"\u001b[39;49m\u001b[43m:\u001b[49m\u001b[43m \u001b[49m\u001b[43mtemperature\u001b[49m\u001b[43m,\u001b[49m\n\u001b[1;32m    382\u001b[0m \u001b[43m                \u001b[49m\u001b[38;5;124;43m\"\u001b[39;49m\u001b[38;5;124;43mtool_choice\u001b[39;49m\u001b[38;5;124;43m\"\u001b[39;49m\u001b[43m:\u001b[49m\u001b[43m \u001b[49m\u001b[43mtool_choice\u001b[49m\u001b[43m,\u001b[49m\n\u001b[1;32m    383\u001b[0m \u001b[43m                \u001b[49m\u001b[38;5;124;43m\"\u001b[39;49m\u001b[38;5;124;43mtools\u001b[39;49m\u001b[38;5;124;43m\"\u001b[39;49m\u001b[43m:\u001b[49m\u001b[43m \u001b[49m\u001b[43mtools\u001b[49m\u001b[43m,\u001b[49m\n\u001b[1;32m    384\u001b[0m \u001b[43m                \u001b[49m\u001b[38;5;124;43m\"\u001b[39;49m\u001b[38;5;124;43mtop_logprobs\u001b[39;49m\u001b[38;5;124;43m\"\u001b[39;49m\u001b[43m:\u001b[49m\u001b[43m \u001b[49m\u001b[43mtop_logprobs\u001b[49m\u001b[43m,\u001b[49m\n\u001b[1;32m    385\u001b[0m \u001b[43m                \u001b[49m\u001b[38;5;124;43m\"\u001b[39;49m\u001b[38;5;124;43mtop_p\u001b[39;49m\u001b[38;5;124;43m\"\u001b[39;49m\u001b[43m:\u001b[49m\u001b[43m \u001b[49m\u001b[43mtop_p\u001b[49m\u001b[43m,\u001b[49m\n\u001b[1;32m    386\u001b[0m \u001b[43m                \u001b[49m\u001b[38;5;124;43m\"\u001b[39;49m\u001b[38;5;124;43muser\u001b[39;49m\u001b[38;5;124;43m\"\u001b[39;49m\u001b[43m:\u001b[49m\u001b[43m \u001b[49m\u001b[43muser\u001b[49m\u001b[43m,\u001b[49m\n\u001b[1;32m    387\u001b[0m \u001b[43m            \u001b[49m\u001b[43m}\u001b[49m\u001b[43m,\u001b[49m\n\u001b[1;32m    388\u001b[0m \u001b[43m            \u001b[49m\u001b[43mcompletion_create_params\u001b[49m\u001b[38;5;241;43m.\u001b[39;49m\u001b[43mCompletionCreateParams\u001b[49m\u001b[43m,\u001b[49m\n\u001b[1;32m    389\u001b[0m \u001b[43m        \u001b[49m\u001b[43m)\u001b[49m\u001b[43m,\u001b[49m\n\u001b[1;32m    390\u001b[0m \u001b[43m        \u001b[49m\u001b[43moptions\u001b[49m\u001b[38;5;241;43m=\u001b[39;49m\u001b[43mmake_request_options\u001b[49m\u001b[43m(\u001b[49m\n\u001b[1;32m    391\u001b[0m \u001b[43m            \u001b[49m\u001b[43mextra_headers\u001b[49m\u001b[38;5;241;43m=\u001b[39;49m\u001b[43mextra_headers\u001b[49m\u001b[43m,\u001b[49m\u001b[43m \u001b[49m\u001b[43mextra_query\u001b[49m\u001b[38;5;241;43m=\u001b[39;49m\u001b[43mextra_query\u001b[49m\u001b[43m,\u001b[49m\u001b[43m \u001b[49m\u001b[43mextra_body\u001b[49m\u001b[38;5;241;43m=\u001b[39;49m\u001b[43mextra_body\u001b[49m\u001b[43m,\u001b[49m\u001b[43m \u001b[49m\u001b[43mtimeout\u001b[49m\u001b[38;5;241;43m=\u001b[39;49m\u001b[43mtimeout\u001b[49m\n\u001b[1;32m    392\u001b[0m \u001b[43m        \u001b[49m\u001b[43m)\u001b[49m\u001b[43m,\u001b[49m\n\u001b[1;32m    393\u001b[0m \u001b[43m        \u001b[49m\u001b[43mcast_to\u001b[49m\u001b[38;5;241;43m=\u001b[39;49m\u001b[43mChatCompletion\u001b[49m\u001b[43m,\u001b[49m\n\u001b[1;32m    394\u001b[0m \u001b[43m        \u001b[49m\u001b[43mstream\u001b[49m\u001b[38;5;241;43m=\u001b[39;49m\u001b[43mstream\u001b[49m\u001b[43m \u001b[49m\u001b[38;5;129;43;01mor\u001b[39;49;00m\u001b[43m \u001b[49m\u001b[38;5;28;43;01mFalse\u001b[39;49;00m\u001b[43m,\u001b[49m\n\u001b[1;32m    395\u001b[0m \u001b[43m        \u001b[49m\u001b[43mstream_cls\u001b[49m\u001b[38;5;241;43m=\u001b[39;49m\u001b[43mStream\u001b[49m\u001b[43m[\u001b[49m\u001b[43mChatCompletionChunk\u001b[49m\u001b[43m]\u001b[49m\u001b[43m,\u001b[49m\n\u001b[1;32m    396\u001b[0m \u001b[43m    \u001b[49m\u001b[43m)\u001b[49m\n",
      "File \u001b[0;32m~/anaconda3/envs/interview/lib/python3.10/site-packages/groq/_base_client.py:1222\u001b[0m, in \u001b[0;36mSyncAPIClient.post\u001b[0;34m(self, path, cast_to, body, options, files, stream, stream_cls)\u001b[0m\n\u001b[1;32m   1208\u001b[0m \u001b[38;5;28;01mdef\u001b[39;00m\u001b[38;5;250m \u001b[39m\u001b[38;5;21mpost\u001b[39m(\n\u001b[1;32m   1209\u001b[0m     \u001b[38;5;28mself\u001b[39m,\n\u001b[1;32m   1210\u001b[0m     path: \u001b[38;5;28mstr\u001b[39m,\n\u001b[0;32m   (...)\u001b[0m\n\u001b[1;32m   1217\u001b[0m     stream_cls: \u001b[38;5;28mtype\u001b[39m[_StreamT] \u001b[38;5;241m|\u001b[39m \u001b[38;5;28;01mNone\u001b[39;00m \u001b[38;5;241m=\u001b[39m \u001b[38;5;28;01mNone\u001b[39;00m,\n\u001b[1;32m   1218\u001b[0m ) \u001b[38;5;241m-\u001b[39m\u001b[38;5;241m>\u001b[39m ResponseT \u001b[38;5;241m|\u001b[39m _StreamT:\n\u001b[1;32m   1219\u001b[0m     opts \u001b[38;5;241m=\u001b[39m FinalRequestOptions\u001b[38;5;241m.\u001b[39mconstruct(\n\u001b[1;32m   1220\u001b[0m         method\u001b[38;5;241m=\u001b[39m\u001b[38;5;124m\"\u001b[39m\u001b[38;5;124mpost\u001b[39m\u001b[38;5;124m\"\u001b[39m, url\u001b[38;5;241m=\u001b[39mpath, json_data\u001b[38;5;241m=\u001b[39mbody, files\u001b[38;5;241m=\u001b[39mto_httpx_files(files), \u001b[38;5;241m*\u001b[39m\u001b[38;5;241m*\u001b[39moptions\n\u001b[1;32m   1221\u001b[0m     )\n\u001b[0;32m-> 1222\u001b[0m     \u001b[38;5;28;01mreturn\u001b[39;00m cast(ResponseT, \u001b[38;5;28;43mself\u001b[39;49m\u001b[38;5;241;43m.\u001b[39;49m\u001b[43mrequest\u001b[49m\u001b[43m(\u001b[49m\u001b[43mcast_to\u001b[49m\u001b[43m,\u001b[49m\u001b[43m \u001b[49m\u001b[43mopts\u001b[49m\u001b[43m,\u001b[49m\u001b[43m \u001b[49m\u001b[43mstream\u001b[49m\u001b[38;5;241;43m=\u001b[39;49m\u001b[43mstream\u001b[49m\u001b[43m,\u001b[49m\u001b[43m \u001b[49m\u001b[43mstream_cls\u001b[49m\u001b[38;5;241;43m=\u001b[39;49m\u001b[43mstream_cls\u001b[49m\u001b[43m)\u001b[49m)\n",
      "File \u001b[0;32m~/anaconda3/envs/interview/lib/python3.10/site-packages/groq/_base_client.py:1031\u001b[0m, in \u001b[0;36mSyncAPIClient.request\u001b[0;34m(self, cast_to, options, stream, stream_cls)\u001b[0m\n\u001b[1;32m   1028\u001b[0m             err\u001b[38;5;241m.\u001b[39mresponse\u001b[38;5;241m.\u001b[39mread()\n\u001b[1;32m   1030\u001b[0m         log\u001b[38;5;241m.\u001b[39mdebug(\u001b[38;5;124m\"\u001b[39m\u001b[38;5;124mRe-raising status error\u001b[39m\u001b[38;5;124m\"\u001b[39m)\n\u001b[0;32m-> 1031\u001b[0m         \u001b[38;5;28;01mraise\u001b[39;00m \u001b[38;5;28mself\u001b[39m\u001b[38;5;241m.\u001b[39m_make_status_error_from_response(err\u001b[38;5;241m.\u001b[39mresponse) \u001b[38;5;28;01mfrom\u001b[39;00m\u001b[38;5;250m \u001b[39m\u001b[38;5;28;01mNone\u001b[39;00m\n\u001b[1;32m   1033\u001b[0m     \u001b[38;5;28;01mbreak\u001b[39;00m\n\u001b[1;32m   1035\u001b[0m \u001b[38;5;28;01massert\u001b[39;00m response \u001b[38;5;129;01mis\u001b[39;00m \u001b[38;5;129;01mnot\u001b[39;00m \u001b[38;5;28;01mNone\u001b[39;00m, \u001b[38;5;124m\"\u001b[39m\u001b[38;5;124mcould not resolve response (should never happen)\u001b[39m\u001b[38;5;124m\"\u001b[39m\n",
      "\u001b[0;31mRateLimitError\u001b[0m: Error code: 429 - {'error': {'message': 'Rate limit reached for model `llama-3.3-70b-versatile` in organization `org_01jsrpqcbafzvt92krfss99aad` service tier `on_demand` on tokens per day (TPD): Limit 100000, Used 98571, Requested 4718. Please try again in 47m20.845s. Need more tokens? Upgrade to Dev Tier today at https://console.groq.com/settings/billing', 'type': 'tokens', 'code': 'rate_limit_exceeded'}}"
     ]
    }
   ],
   "source": [
    "for question in quest_list:\n",
    "    print(\"Question:\", question)\n",
    "    answer= answer_generation_chain.run(question)\n",
    "    print(\"Answer\", answer)\n",
    "    print(\"------------------------------------\\\\n\\\\n\")\n",
    "    with open(\"answer.txt\", \"a\") as f:\n",
    "        f.write(\"Question:\" + question + \"\\\\n\")\n",
    "        f.write(\"Answer:\" + answer + \"\\\\n\")\n",
    "        f.write(\"-------------------------------\\\\n\\\\\\n\")\n",
    "      "
   ]
  }
 ],
 "metadata": {
  "kernelspec": {
   "display_name": "interview",
   "language": "python",
   "name": "python3"
  },
  "language_info": {
   "codemirror_mode": {
    "name": "ipython",
    "version": 3
   },
   "file_extension": ".py",
   "mimetype": "text/x-python",
   "name": "python",
   "nbconvert_exporter": "python",
   "pygments_lexer": "ipython3",
   "version": "3.10.16"
  }
 },
 "nbformat": 4,
 "nbformat_minor": 5
}
